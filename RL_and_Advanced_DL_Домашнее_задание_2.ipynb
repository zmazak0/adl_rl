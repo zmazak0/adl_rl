{
  "nbformat": 4,
  "nbformat_minor": 0,
  "metadata": {
    "colab": {
      "name": "RL and Advanced DL: Домашнее задание 2",
      "provenance": [],
      "collapsed_sections": []
    },
    "kernelspec": {
      "display_name": "Python 3",
      "language": "python",
      "name": "python3"
    },
    "language_info": {
      "codemirror_mode": {
        "name": "ipython",
        "version": 3
      },
      "file_extension": ".py",
      "mimetype": "text/x-python",
      "name": "python",
      "nbconvert_exporter": "python",
      "pygments_lexer": "ipython3",
      "version": "3.7.6"
    },
    "widgets": {
      "application/vnd.jupyter.widget-state+json": {
        "07bede331f9f46d4a9a0d7923b6675c5": {
          "model_module": "@jupyter-widgets/controls",
          "model_name": "HBoxModel",
          "model_module_version": "1.5.0",
          "state": {
            "_dom_classes": [],
            "_model_module": "@jupyter-widgets/controls",
            "_model_module_version": "1.5.0",
            "_model_name": "HBoxModel",
            "_view_count": null,
            "_view_module": "@jupyter-widgets/controls",
            "_view_module_version": "1.5.0",
            "_view_name": "HBoxView",
            "box_style": "",
            "children": [
              "IPY_MODEL_a31f15b3c3604ec9b4675070102889fc",
              "IPY_MODEL_b0930aabe433426189d359f1bc9ae645",
              "IPY_MODEL_d690742fa0884d50ba9359b89a11a1c4"
            ],
            "layout": "IPY_MODEL_d60f98e8e24349ea93a06df5456cad07"
          }
        },
        "a31f15b3c3604ec9b4675070102889fc": {
          "model_module": "@jupyter-widgets/controls",
          "model_name": "HTMLModel",
          "model_module_version": "1.5.0",
          "state": {
            "_dom_classes": [],
            "_model_module": "@jupyter-widgets/controls",
            "_model_module_version": "1.5.0",
            "_model_name": "HTMLModel",
            "_view_count": null,
            "_view_module": "@jupyter-widgets/controls",
            "_view_module_version": "1.5.0",
            "_view_name": "HTMLView",
            "description": "",
            "description_tooltip": null,
            "layout": "IPY_MODEL_835702ba649e4e41b1e574507cc1648e",
            "placeholder": "​",
            "style": "IPY_MODEL_1616e6e1ae684c23800ab371aab4ed49",
            "value": "100%"
          }
        },
        "b0930aabe433426189d359f1bc9ae645": {
          "model_module": "@jupyter-widgets/controls",
          "model_name": "FloatProgressModel",
          "model_module_version": "1.5.0",
          "state": {
            "_dom_classes": [],
            "_model_module": "@jupyter-widgets/controls",
            "_model_module_version": "1.5.0",
            "_model_name": "FloatProgressModel",
            "_view_count": null,
            "_view_module": "@jupyter-widgets/controls",
            "_view_module_version": "1.5.0",
            "_view_name": "ProgressView",
            "bar_style": "success",
            "description": "",
            "description_tooltip": null,
            "layout": "IPY_MODEL_27a8df90be7c497fa7d0b97ee13e0666",
            "max": 100000,
            "min": 0,
            "orientation": "horizontal",
            "style": "IPY_MODEL_f09e0901b36040d89b592445f8b93683",
            "value": 100000
          }
        },
        "d690742fa0884d50ba9359b89a11a1c4": {
          "model_module": "@jupyter-widgets/controls",
          "model_name": "HTMLModel",
          "model_module_version": "1.5.0",
          "state": {
            "_dom_classes": [],
            "_model_module": "@jupyter-widgets/controls",
            "_model_module_version": "1.5.0",
            "_model_name": "HTMLModel",
            "_view_count": null,
            "_view_module": "@jupyter-widgets/controls",
            "_view_module_version": "1.5.0",
            "_view_name": "HTMLView",
            "description": "",
            "description_tooltip": null,
            "layout": "IPY_MODEL_44ff4ec471714160a59d3dfbe35540d2",
            "placeholder": "​",
            "style": "IPY_MODEL_5c4b9d44cd6048038ca65406e98f94cc",
            "value": " 100000/100000 [01:15&lt;00:00, 1357.95it/s]"
          }
        },
        "d60f98e8e24349ea93a06df5456cad07": {
          "model_module": "@jupyter-widgets/base",
          "model_name": "LayoutModel",
          "model_module_version": "1.2.0",
          "state": {
            "_model_module": "@jupyter-widgets/base",
            "_model_module_version": "1.2.0",
            "_model_name": "LayoutModel",
            "_view_count": null,
            "_view_module": "@jupyter-widgets/base",
            "_view_module_version": "1.2.0",
            "_view_name": "LayoutView",
            "align_content": null,
            "align_items": null,
            "align_self": null,
            "border": null,
            "bottom": null,
            "display": null,
            "flex": null,
            "flex_flow": null,
            "grid_area": null,
            "grid_auto_columns": null,
            "grid_auto_flow": null,
            "grid_auto_rows": null,
            "grid_column": null,
            "grid_gap": null,
            "grid_row": null,
            "grid_template_areas": null,
            "grid_template_columns": null,
            "grid_template_rows": null,
            "height": null,
            "justify_content": null,
            "justify_items": null,
            "left": null,
            "margin": null,
            "max_height": null,
            "max_width": null,
            "min_height": null,
            "min_width": null,
            "object_fit": null,
            "object_position": null,
            "order": null,
            "overflow": null,
            "overflow_x": null,
            "overflow_y": null,
            "padding": null,
            "right": null,
            "top": null,
            "visibility": null,
            "width": null
          }
        },
        "835702ba649e4e41b1e574507cc1648e": {
          "model_module": "@jupyter-widgets/base",
          "model_name": "LayoutModel",
          "model_module_version": "1.2.0",
          "state": {
            "_model_module": "@jupyter-widgets/base",
            "_model_module_version": "1.2.0",
            "_model_name": "LayoutModel",
            "_view_count": null,
            "_view_module": "@jupyter-widgets/base",
            "_view_module_version": "1.2.0",
            "_view_name": "LayoutView",
            "align_content": null,
            "align_items": null,
            "align_self": null,
            "border": null,
            "bottom": null,
            "display": null,
            "flex": null,
            "flex_flow": null,
            "grid_area": null,
            "grid_auto_columns": null,
            "grid_auto_flow": null,
            "grid_auto_rows": null,
            "grid_column": null,
            "grid_gap": null,
            "grid_row": null,
            "grid_template_areas": null,
            "grid_template_columns": null,
            "grid_template_rows": null,
            "height": null,
            "justify_content": null,
            "justify_items": null,
            "left": null,
            "margin": null,
            "max_height": null,
            "max_width": null,
            "min_height": null,
            "min_width": null,
            "object_fit": null,
            "object_position": null,
            "order": null,
            "overflow": null,
            "overflow_x": null,
            "overflow_y": null,
            "padding": null,
            "right": null,
            "top": null,
            "visibility": null,
            "width": null
          }
        },
        "1616e6e1ae684c23800ab371aab4ed49": {
          "model_module": "@jupyter-widgets/controls",
          "model_name": "DescriptionStyleModel",
          "model_module_version": "1.5.0",
          "state": {
            "_model_module": "@jupyter-widgets/controls",
            "_model_module_version": "1.5.0",
            "_model_name": "DescriptionStyleModel",
            "_view_count": null,
            "_view_module": "@jupyter-widgets/base",
            "_view_module_version": "1.2.0",
            "_view_name": "StyleView",
            "description_width": ""
          }
        },
        "27a8df90be7c497fa7d0b97ee13e0666": {
          "model_module": "@jupyter-widgets/base",
          "model_name": "LayoutModel",
          "model_module_version": "1.2.0",
          "state": {
            "_model_module": "@jupyter-widgets/base",
            "_model_module_version": "1.2.0",
            "_model_name": "LayoutModel",
            "_view_count": null,
            "_view_module": "@jupyter-widgets/base",
            "_view_module_version": "1.2.0",
            "_view_name": "LayoutView",
            "align_content": null,
            "align_items": null,
            "align_self": null,
            "border": null,
            "bottom": null,
            "display": null,
            "flex": null,
            "flex_flow": null,
            "grid_area": null,
            "grid_auto_columns": null,
            "grid_auto_flow": null,
            "grid_auto_rows": null,
            "grid_column": null,
            "grid_gap": null,
            "grid_row": null,
            "grid_template_areas": null,
            "grid_template_columns": null,
            "grid_template_rows": null,
            "height": null,
            "justify_content": null,
            "justify_items": null,
            "left": null,
            "margin": null,
            "max_height": null,
            "max_width": null,
            "min_height": null,
            "min_width": null,
            "object_fit": null,
            "object_position": null,
            "order": null,
            "overflow": null,
            "overflow_x": null,
            "overflow_y": null,
            "padding": null,
            "right": null,
            "top": null,
            "visibility": null,
            "width": null
          }
        },
        "f09e0901b36040d89b592445f8b93683": {
          "model_module": "@jupyter-widgets/controls",
          "model_name": "ProgressStyleModel",
          "model_module_version": "1.5.0",
          "state": {
            "_model_module": "@jupyter-widgets/controls",
            "_model_module_version": "1.5.0",
            "_model_name": "ProgressStyleModel",
            "_view_count": null,
            "_view_module": "@jupyter-widgets/base",
            "_view_module_version": "1.2.0",
            "_view_name": "StyleView",
            "bar_color": null,
            "description_width": ""
          }
        },
        "44ff4ec471714160a59d3dfbe35540d2": {
          "model_module": "@jupyter-widgets/base",
          "model_name": "LayoutModel",
          "model_module_version": "1.2.0",
          "state": {
            "_model_module": "@jupyter-widgets/base",
            "_model_module_version": "1.2.0",
            "_model_name": "LayoutModel",
            "_view_count": null,
            "_view_module": "@jupyter-widgets/base",
            "_view_module_version": "1.2.0",
            "_view_name": "LayoutView",
            "align_content": null,
            "align_items": null,
            "align_self": null,
            "border": null,
            "bottom": null,
            "display": null,
            "flex": null,
            "flex_flow": null,
            "grid_area": null,
            "grid_auto_columns": null,
            "grid_auto_flow": null,
            "grid_auto_rows": null,
            "grid_column": null,
            "grid_gap": null,
            "grid_row": null,
            "grid_template_areas": null,
            "grid_template_columns": null,
            "grid_template_rows": null,
            "height": null,
            "justify_content": null,
            "justify_items": null,
            "left": null,
            "margin": null,
            "max_height": null,
            "max_width": null,
            "min_height": null,
            "min_width": null,
            "object_fit": null,
            "object_position": null,
            "order": null,
            "overflow": null,
            "overflow_x": null,
            "overflow_y": null,
            "padding": null,
            "right": null,
            "top": null,
            "visibility": null,
            "width": null
          }
        },
        "5c4b9d44cd6048038ca65406e98f94cc": {
          "model_module": "@jupyter-widgets/controls",
          "model_name": "DescriptionStyleModel",
          "model_module_version": "1.5.0",
          "state": {
            "_model_module": "@jupyter-widgets/controls",
            "_model_module_version": "1.5.0",
            "_model_name": "DescriptionStyleModel",
            "_view_count": null,
            "_view_module": "@jupyter-widgets/base",
            "_view_module_version": "1.2.0",
            "_view_name": "StyleView",
            "description_width": ""
          }
        },
        "5bfce9fc33e54718840e632c6c118d38": {
          "model_module": "@jupyter-widgets/controls",
          "model_name": "HBoxModel",
          "model_module_version": "1.5.0",
          "state": {
            "_dom_classes": [],
            "_model_module": "@jupyter-widgets/controls",
            "_model_module_version": "1.5.0",
            "_model_name": "HBoxModel",
            "_view_count": null,
            "_view_module": "@jupyter-widgets/controls",
            "_view_module_version": "1.5.0",
            "_view_name": "HBoxView",
            "box_style": "",
            "children": [
              "IPY_MODEL_d6cb8bf1aad04902ae92e688e1edb515",
              "IPY_MODEL_8d205f600a3a4af39c46b13daec3abea",
              "IPY_MODEL_7729f29344984a14b89173af8a3b324c"
            ],
            "layout": "IPY_MODEL_0c90c8d8cbca4a7a93f4047d309f695c"
          }
        },
        "d6cb8bf1aad04902ae92e688e1edb515": {
          "model_module": "@jupyter-widgets/controls",
          "model_name": "HTMLModel",
          "model_module_version": "1.5.0",
          "state": {
            "_dom_classes": [],
            "_model_module": "@jupyter-widgets/controls",
            "_model_module_version": "1.5.0",
            "_model_name": "HTMLModel",
            "_view_count": null,
            "_view_module": "@jupyter-widgets/controls",
            "_view_module_version": "1.5.0",
            "_view_name": "HTMLView",
            "description": "",
            "description_tooltip": null,
            "layout": "IPY_MODEL_93f7c6a672e34892947a46898df5125c",
            "placeholder": "​",
            "style": "IPY_MODEL_0d6ae088d1994e5289d4ecff467fa59a",
            "value": "100%"
          }
        },
        "8d205f600a3a4af39c46b13daec3abea": {
          "model_module": "@jupyter-widgets/controls",
          "model_name": "FloatProgressModel",
          "model_module_version": "1.5.0",
          "state": {
            "_dom_classes": [],
            "_model_module": "@jupyter-widgets/controls",
            "_model_module_version": "1.5.0",
            "_model_name": "FloatProgressModel",
            "_view_count": null,
            "_view_module": "@jupyter-widgets/controls",
            "_view_module_version": "1.5.0",
            "_view_name": "ProgressView",
            "bar_style": "success",
            "description": "",
            "description_tooltip": null,
            "layout": "IPY_MODEL_e550528a07a44e3ca4967a4b045833f8",
            "max": 100000,
            "min": 0,
            "orientation": "horizontal",
            "style": "IPY_MODEL_903f3af41e52427a88432160119f6da2",
            "value": 100000
          }
        },
        "7729f29344984a14b89173af8a3b324c": {
          "model_module": "@jupyter-widgets/controls",
          "model_name": "HTMLModel",
          "model_module_version": "1.5.0",
          "state": {
            "_dom_classes": [],
            "_model_module": "@jupyter-widgets/controls",
            "_model_module_version": "1.5.0",
            "_model_name": "HTMLModel",
            "_view_count": null,
            "_view_module": "@jupyter-widgets/controls",
            "_view_module_version": "1.5.0",
            "_view_name": "HTMLView",
            "description": "",
            "description_tooltip": null,
            "layout": "IPY_MODEL_c36303cb1dd248ef856c8f012b843b3c",
            "placeholder": "​",
            "style": "IPY_MODEL_ccacf5780a5449258cdf093fc57c39e8",
            "value": " 100000/100000 [01:26&lt;00:00, 1083.70it/s]"
          }
        },
        "0c90c8d8cbca4a7a93f4047d309f695c": {
          "model_module": "@jupyter-widgets/base",
          "model_name": "LayoutModel",
          "model_module_version": "1.2.0",
          "state": {
            "_model_module": "@jupyter-widgets/base",
            "_model_module_version": "1.2.0",
            "_model_name": "LayoutModel",
            "_view_count": null,
            "_view_module": "@jupyter-widgets/base",
            "_view_module_version": "1.2.0",
            "_view_name": "LayoutView",
            "align_content": null,
            "align_items": null,
            "align_self": null,
            "border": null,
            "bottom": null,
            "display": null,
            "flex": null,
            "flex_flow": null,
            "grid_area": null,
            "grid_auto_columns": null,
            "grid_auto_flow": null,
            "grid_auto_rows": null,
            "grid_column": null,
            "grid_gap": null,
            "grid_row": null,
            "grid_template_areas": null,
            "grid_template_columns": null,
            "grid_template_rows": null,
            "height": null,
            "justify_content": null,
            "justify_items": null,
            "left": null,
            "margin": null,
            "max_height": null,
            "max_width": null,
            "min_height": null,
            "min_width": null,
            "object_fit": null,
            "object_position": null,
            "order": null,
            "overflow": null,
            "overflow_x": null,
            "overflow_y": null,
            "padding": null,
            "right": null,
            "top": null,
            "visibility": null,
            "width": null
          }
        },
        "93f7c6a672e34892947a46898df5125c": {
          "model_module": "@jupyter-widgets/base",
          "model_name": "LayoutModel",
          "model_module_version": "1.2.0",
          "state": {
            "_model_module": "@jupyter-widgets/base",
            "_model_module_version": "1.2.0",
            "_model_name": "LayoutModel",
            "_view_count": null,
            "_view_module": "@jupyter-widgets/base",
            "_view_module_version": "1.2.0",
            "_view_name": "LayoutView",
            "align_content": null,
            "align_items": null,
            "align_self": null,
            "border": null,
            "bottom": null,
            "display": null,
            "flex": null,
            "flex_flow": null,
            "grid_area": null,
            "grid_auto_columns": null,
            "grid_auto_flow": null,
            "grid_auto_rows": null,
            "grid_column": null,
            "grid_gap": null,
            "grid_row": null,
            "grid_template_areas": null,
            "grid_template_columns": null,
            "grid_template_rows": null,
            "height": null,
            "justify_content": null,
            "justify_items": null,
            "left": null,
            "margin": null,
            "max_height": null,
            "max_width": null,
            "min_height": null,
            "min_width": null,
            "object_fit": null,
            "object_position": null,
            "order": null,
            "overflow": null,
            "overflow_x": null,
            "overflow_y": null,
            "padding": null,
            "right": null,
            "top": null,
            "visibility": null,
            "width": null
          }
        },
        "0d6ae088d1994e5289d4ecff467fa59a": {
          "model_module": "@jupyter-widgets/controls",
          "model_name": "DescriptionStyleModel",
          "model_module_version": "1.5.0",
          "state": {
            "_model_module": "@jupyter-widgets/controls",
            "_model_module_version": "1.5.0",
            "_model_name": "DescriptionStyleModel",
            "_view_count": null,
            "_view_module": "@jupyter-widgets/base",
            "_view_module_version": "1.2.0",
            "_view_name": "StyleView",
            "description_width": ""
          }
        },
        "e550528a07a44e3ca4967a4b045833f8": {
          "model_module": "@jupyter-widgets/base",
          "model_name": "LayoutModel",
          "model_module_version": "1.2.0",
          "state": {
            "_model_module": "@jupyter-widgets/base",
            "_model_module_version": "1.2.0",
            "_model_name": "LayoutModel",
            "_view_count": null,
            "_view_module": "@jupyter-widgets/base",
            "_view_module_version": "1.2.0",
            "_view_name": "LayoutView",
            "align_content": null,
            "align_items": null,
            "align_self": null,
            "border": null,
            "bottom": null,
            "display": null,
            "flex": null,
            "flex_flow": null,
            "grid_area": null,
            "grid_auto_columns": null,
            "grid_auto_flow": null,
            "grid_auto_rows": null,
            "grid_column": null,
            "grid_gap": null,
            "grid_row": null,
            "grid_template_areas": null,
            "grid_template_columns": null,
            "grid_template_rows": null,
            "height": null,
            "justify_content": null,
            "justify_items": null,
            "left": null,
            "margin": null,
            "max_height": null,
            "max_width": null,
            "min_height": null,
            "min_width": null,
            "object_fit": null,
            "object_position": null,
            "order": null,
            "overflow": null,
            "overflow_x": null,
            "overflow_y": null,
            "padding": null,
            "right": null,
            "top": null,
            "visibility": null,
            "width": null
          }
        },
        "903f3af41e52427a88432160119f6da2": {
          "model_module": "@jupyter-widgets/controls",
          "model_name": "ProgressStyleModel",
          "model_module_version": "1.5.0",
          "state": {
            "_model_module": "@jupyter-widgets/controls",
            "_model_module_version": "1.5.0",
            "_model_name": "ProgressStyleModel",
            "_view_count": null,
            "_view_module": "@jupyter-widgets/base",
            "_view_module_version": "1.2.0",
            "_view_name": "StyleView",
            "bar_color": null,
            "description_width": ""
          }
        },
        "c36303cb1dd248ef856c8f012b843b3c": {
          "model_module": "@jupyter-widgets/base",
          "model_name": "LayoutModel",
          "model_module_version": "1.2.0",
          "state": {
            "_model_module": "@jupyter-widgets/base",
            "_model_module_version": "1.2.0",
            "_model_name": "LayoutModel",
            "_view_count": null,
            "_view_module": "@jupyter-widgets/base",
            "_view_module_version": "1.2.0",
            "_view_name": "LayoutView",
            "align_content": null,
            "align_items": null,
            "align_self": null,
            "border": null,
            "bottom": null,
            "display": null,
            "flex": null,
            "flex_flow": null,
            "grid_area": null,
            "grid_auto_columns": null,
            "grid_auto_flow": null,
            "grid_auto_rows": null,
            "grid_column": null,
            "grid_gap": null,
            "grid_row": null,
            "grid_template_areas": null,
            "grid_template_columns": null,
            "grid_template_rows": null,
            "height": null,
            "justify_content": null,
            "justify_items": null,
            "left": null,
            "margin": null,
            "max_height": null,
            "max_width": null,
            "min_height": null,
            "min_width": null,
            "object_fit": null,
            "object_position": null,
            "order": null,
            "overflow": null,
            "overflow_x": null,
            "overflow_y": null,
            "padding": null,
            "right": null,
            "top": null,
            "visibility": null,
            "width": null
          }
        },
        "ccacf5780a5449258cdf093fc57c39e8": {
          "model_module": "@jupyter-widgets/controls",
          "model_name": "DescriptionStyleModel",
          "model_module_version": "1.5.0",
          "state": {
            "_model_module": "@jupyter-widgets/controls",
            "_model_module_version": "1.5.0",
            "_model_name": "DescriptionStyleModel",
            "_view_count": null,
            "_view_module": "@jupyter-widgets/base",
            "_view_module_version": "1.2.0",
            "_view_name": "StyleView",
            "description_width": ""
          }
        },
        "a367fc8c4ef145fcb4dfb58a85a57b8d": {
          "model_module": "@jupyter-widgets/controls",
          "model_name": "HBoxModel",
          "model_module_version": "1.5.0",
          "state": {
            "_dom_classes": [],
            "_model_module": "@jupyter-widgets/controls",
            "_model_module_version": "1.5.0",
            "_model_name": "HBoxModel",
            "_view_count": null,
            "_view_module": "@jupyter-widgets/controls",
            "_view_module_version": "1.5.0",
            "_view_name": "HBoxView",
            "box_style": "",
            "children": [
              "IPY_MODEL_817b6ff3bbdd4c6ba3f86d72f6bbfe29",
              "IPY_MODEL_02a5966993514f77bc6cd1e1ac816b7b",
              "IPY_MODEL_9fe9c73413b44a418293f3009eeea641"
            ],
            "layout": "IPY_MODEL_2da2b73cd75d462eb8c2af3518ef3331"
          }
        },
        "817b6ff3bbdd4c6ba3f86d72f6bbfe29": {
          "model_module": "@jupyter-widgets/controls",
          "model_name": "HTMLModel",
          "model_module_version": "1.5.0",
          "state": {
            "_dom_classes": [],
            "_model_module": "@jupyter-widgets/controls",
            "_model_module_version": "1.5.0",
            "_model_name": "HTMLModel",
            "_view_count": null,
            "_view_module": "@jupyter-widgets/controls",
            "_view_module_version": "1.5.0",
            "_view_name": "HTMLView",
            "description": "",
            "description_tooltip": null,
            "layout": "IPY_MODEL_2a796cfe7d73445cb3518562fc1e85be",
            "placeholder": "​",
            "style": "IPY_MODEL_bf359b7fd53a4b82b855c3c21cf2ea05",
            "value": "100%"
          }
        },
        "02a5966993514f77bc6cd1e1ac816b7b": {
          "model_module": "@jupyter-widgets/controls",
          "model_name": "FloatProgressModel",
          "model_module_version": "1.5.0",
          "state": {
            "_dom_classes": [],
            "_model_module": "@jupyter-widgets/controls",
            "_model_module_version": "1.5.0",
            "_model_name": "FloatProgressModel",
            "_view_count": null,
            "_view_module": "@jupyter-widgets/controls",
            "_view_module_version": "1.5.0",
            "_view_name": "ProgressView",
            "bar_style": "success",
            "description": "",
            "description_tooltip": null,
            "layout": "IPY_MODEL_7618f335a32a47b9a38d82be9fa2a943",
            "max": 100000,
            "min": 0,
            "orientation": "horizontal",
            "style": "IPY_MODEL_397631b8d681409db48c09f24504bd7b",
            "value": 100000
          }
        },
        "9fe9c73413b44a418293f3009eeea641": {
          "model_module": "@jupyter-widgets/controls",
          "model_name": "HTMLModel",
          "model_module_version": "1.5.0",
          "state": {
            "_dom_classes": [],
            "_model_module": "@jupyter-widgets/controls",
            "_model_module_version": "1.5.0",
            "_model_name": "HTMLModel",
            "_view_count": null,
            "_view_module": "@jupyter-widgets/controls",
            "_view_module_version": "1.5.0",
            "_view_name": "HTMLView",
            "description": "",
            "description_tooltip": null,
            "layout": "IPY_MODEL_4b71d8560b014efcb56dffc91bf1c2e3",
            "placeholder": "​",
            "style": "IPY_MODEL_0491f7dc2f4847a699d30389eff56d9d",
            "value": " 100000/100000 [02:44&lt;00:00, 610.32it/s]"
          }
        },
        "2da2b73cd75d462eb8c2af3518ef3331": {
          "model_module": "@jupyter-widgets/base",
          "model_name": "LayoutModel",
          "model_module_version": "1.2.0",
          "state": {
            "_model_module": "@jupyter-widgets/base",
            "_model_module_version": "1.2.0",
            "_model_name": "LayoutModel",
            "_view_count": null,
            "_view_module": "@jupyter-widgets/base",
            "_view_module_version": "1.2.0",
            "_view_name": "LayoutView",
            "align_content": null,
            "align_items": null,
            "align_self": null,
            "border": null,
            "bottom": null,
            "display": null,
            "flex": null,
            "flex_flow": null,
            "grid_area": null,
            "grid_auto_columns": null,
            "grid_auto_flow": null,
            "grid_auto_rows": null,
            "grid_column": null,
            "grid_gap": null,
            "grid_row": null,
            "grid_template_areas": null,
            "grid_template_columns": null,
            "grid_template_rows": null,
            "height": null,
            "justify_content": null,
            "justify_items": null,
            "left": null,
            "margin": null,
            "max_height": null,
            "max_width": null,
            "min_height": null,
            "min_width": null,
            "object_fit": null,
            "object_position": null,
            "order": null,
            "overflow": null,
            "overflow_x": null,
            "overflow_y": null,
            "padding": null,
            "right": null,
            "top": null,
            "visibility": null,
            "width": null
          }
        },
        "2a796cfe7d73445cb3518562fc1e85be": {
          "model_module": "@jupyter-widgets/base",
          "model_name": "LayoutModel",
          "model_module_version": "1.2.0",
          "state": {
            "_model_module": "@jupyter-widgets/base",
            "_model_module_version": "1.2.0",
            "_model_name": "LayoutModel",
            "_view_count": null,
            "_view_module": "@jupyter-widgets/base",
            "_view_module_version": "1.2.0",
            "_view_name": "LayoutView",
            "align_content": null,
            "align_items": null,
            "align_self": null,
            "border": null,
            "bottom": null,
            "display": null,
            "flex": null,
            "flex_flow": null,
            "grid_area": null,
            "grid_auto_columns": null,
            "grid_auto_flow": null,
            "grid_auto_rows": null,
            "grid_column": null,
            "grid_gap": null,
            "grid_row": null,
            "grid_template_areas": null,
            "grid_template_columns": null,
            "grid_template_rows": null,
            "height": null,
            "justify_content": null,
            "justify_items": null,
            "left": null,
            "margin": null,
            "max_height": null,
            "max_width": null,
            "min_height": null,
            "min_width": null,
            "object_fit": null,
            "object_position": null,
            "order": null,
            "overflow": null,
            "overflow_x": null,
            "overflow_y": null,
            "padding": null,
            "right": null,
            "top": null,
            "visibility": null,
            "width": null
          }
        },
        "bf359b7fd53a4b82b855c3c21cf2ea05": {
          "model_module": "@jupyter-widgets/controls",
          "model_name": "DescriptionStyleModel",
          "model_module_version": "1.5.0",
          "state": {
            "_model_module": "@jupyter-widgets/controls",
            "_model_module_version": "1.5.0",
            "_model_name": "DescriptionStyleModel",
            "_view_count": null,
            "_view_module": "@jupyter-widgets/base",
            "_view_module_version": "1.2.0",
            "_view_name": "StyleView",
            "description_width": ""
          }
        },
        "7618f335a32a47b9a38d82be9fa2a943": {
          "model_module": "@jupyter-widgets/base",
          "model_name": "LayoutModel",
          "model_module_version": "1.2.0",
          "state": {
            "_model_module": "@jupyter-widgets/base",
            "_model_module_version": "1.2.0",
            "_model_name": "LayoutModel",
            "_view_count": null,
            "_view_module": "@jupyter-widgets/base",
            "_view_module_version": "1.2.0",
            "_view_name": "LayoutView",
            "align_content": null,
            "align_items": null,
            "align_self": null,
            "border": null,
            "bottom": null,
            "display": null,
            "flex": null,
            "flex_flow": null,
            "grid_area": null,
            "grid_auto_columns": null,
            "grid_auto_flow": null,
            "grid_auto_rows": null,
            "grid_column": null,
            "grid_gap": null,
            "grid_row": null,
            "grid_template_areas": null,
            "grid_template_columns": null,
            "grid_template_rows": null,
            "height": null,
            "justify_content": null,
            "justify_items": null,
            "left": null,
            "margin": null,
            "max_height": null,
            "max_width": null,
            "min_height": null,
            "min_width": null,
            "object_fit": null,
            "object_position": null,
            "order": null,
            "overflow": null,
            "overflow_x": null,
            "overflow_y": null,
            "padding": null,
            "right": null,
            "top": null,
            "visibility": null,
            "width": null
          }
        },
        "397631b8d681409db48c09f24504bd7b": {
          "model_module": "@jupyter-widgets/controls",
          "model_name": "ProgressStyleModel",
          "model_module_version": "1.5.0",
          "state": {
            "_model_module": "@jupyter-widgets/controls",
            "_model_module_version": "1.5.0",
            "_model_name": "ProgressStyleModel",
            "_view_count": null,
            "_view_module": "@jupyter-widgets/base",
            "_view_module_version": "1.2.0",
            "_view_name": "StyleView",
            "bar_color": null,
            "description_width": ""
          }
        },
        "4b71d8560b014efcb56dffc91bf1c2e3": {
          "model_module": "@jupyter-widgets/base",
          "model_name": "LayoutModel",
          "model_module_version": "1.2.0",
          "state": {
            "_model_module": "@jupyter-widgets/base",
            "_model_module_version": "1.2.0",
            "_model_name": "LayoutModel",
            "_view_count": null,
            "_view_module": "@jupyter-widgets/base",
            "_view_module_version": "1.2.0",
            "_view_name": "LayoutView",
            "align_content": null,
            "align_items": null,
            "align_self": null,
            "border": null,
            "bottom": null,
            "display": null,
            "flex": null,
            "flex_flow": null,
            "grid_area": null,
            "grid_auto_columns": null,
            "grid_auto_flow": null,
            "grid_auto_rows": null,
            "grid_column": null,
            "grid_gap": null,
            "grid_row": null,
            "grid_template_areas": null,
            "grid_template_columns": null,
            "grid_template_rows": null,
            "height": null,
            "justify_content": null,
            "justify_items": null,
            "left": null,
            "margin": null,
            "max_height": null,
            "max_width": null,
            "min_height": null,
            "min_width": null,
            "object_fit": null,
            "object_position": null,
            "order": null,
            "overflow": null,
            "overflow_x": null,
            "overflow_y": null,
            "padding": null,
            "right": null,
            "top": null,
            "visibility": null,
            "width": null
          }
        },
        "0491f7dc2f4847a699d30389eff56d9d": {
          "model_module": "@jupyter-widgets/controls",
          "model_name": "DescriptionStyleModel",
          "model_module_version": "1.5.0",
          "state": {
            "_model_module": "@jupyter-widgets/controls",
            "_model_module_version": "1.5.0",
            "_model_name": "DescriptionStyleModel",
            "_view_count": null,
            "_view_module": "@jupyter-widgets/base",
            "_view_module_version": "1.2.0",
            "_view_name": "StyleView",
            "description_width": ""
          }
        },
        "e3e053bb39d9420ea5d63041b790900e": {
          "model_module": "@jupyter-widgets/controls",
          "model_name": "HBoxModel",
          "model_module_version": "1.5.0",
          "state": {
            "_dom_classes": [],
            "_model_module": "@jupyter-widgets/controls",
            "_model_module_version": "1.5.0",
            "_model_name": "HBoxModel",
            "_view_count": null,
            "_view_module": "@jupyter-widgets/controls",
            "_view_module_version": "1.5.0",
            "_view_name": "HBoxView",
            "box_style": "",
            "children": [
              "IPY_MODEL_41790fa8732d406ebff92e43a73d8bfa",
              "IPY_MODEL_1c8b0f93dd464912b1b06a59a3fbb9ee",
              "IPY_MODEL_a0a8e82f521c4ee18964f504ec3007b1"
            ],
            "layout": "IPY_MODEL_4ad2ced7a4e640e08a8cf410b5931d43"
          }
        },
        "41790fa8732d406ebff92e43a73d8bfa": {
          "model_module": "@jupyter-widgets/controls",
          "model_name": "HTMLModel",
          "model_module_version": "1.5.0",
          "state": {
            "_dom_classes": [],
            "_model_module": "@jupyter-widgets/controls",
            "_model_module_version": "1.5.0",
            "_model_name": "HTMLModel",
            "_view_count": null,
            "_view_module": "@jupyter-widgets/controls",
            "_view_module_version": "1.5.0",
            "_view_name": "HTMLView",
            "description": "",
            "description_tooltip": null,
            "layout": "IPY_MODEL_406111a70740400ca1c28a356705dabf",
            "placeholder": "​",
            "style": "IPY_MODEL_331fb2c36511409583d0ec1a123ce5b7",
            "value": "100%"
          }
        },
        "1c8b0f93dd464912b1b06a59a3fbb9ee": {
          "model_module": "@jupyter-widgets/controls",
          "model_name": "FloatProgressModel",
          "model_module_version": "1.5.0",
          "state": {
            "_dom_classes": [],
            "_model_module": "@jupyter-widgets/controls",
            "_model_module_version": "1.5.0",
            "_model_name": "FloatProgressModel",
            "_view_count": null,
            "_view_module": "@jupyter-widgets/controls",
            "_view_module_version": "1.5.0",
            "_view_name": "ProgressView",
            "bar_style": "success",
            "description": "",
            "description_tooltip": null,
            "layout": "IPY_MODEL_cb1d7cd7912b46488e4785e7a908f944",
            "max": 100000,
            "min": 0,
            "orientation": "horizontal",
            "style": "IPY_MODEL_b40a7b43914d4de2a8a770ef1388a58b",
            "value": 100000
          }
        },
        "a0a8e82f521c4ee18964f504ec3007b1": {
          "model_module": "@jupyter-widgets/controls",
          "model_name": "HTMLModel",
          "model_module_version": "1.5.0",
          "state": {
            "_dom_classes": [],
            "_model_module": "@jupyter-widgets/controls",
            "_model_module_version": "1.5.0",
            "_model_name": "HTMLModel",
            "_view_count": null,
            "_view_module": "@jupyter-widgets/controls",
            "_view_module_version": "1.5.0",
            "_view_name": "HTMLView",
            "description": "",
            "description_tooltip": null,
            "layout": "IPY_MODEL_ae5969834cbf43df8158b3f44f11c992",
            "placeholder": "​",
            "style": "IPY_MODEL_3311e687b626439d99ea6c2baacb5b2e",
            "value": " 100000/100000 [03:10&lt;00:00, 488.61it/s]"
          }
        },
        "4ad2ced7a4e640e08a8cf410b5931d43": {
          "model_module": "@jupyter-widgets/base",
          "model_name": "LayoutModel",
          "model_module_version": "1.2.0",
          "state": {
            "_model_module": "@jupyter-widgets/base",
            "_model_module_version": "1.2.0",
            "_model_name": "LayoutModel",
            "_view_count": null,
            "_view_module": "@jupyter-widgets/base",
            "_view_module_version": "1.2.0",
            "_view_name": "LayoutView",
            "align_content": null,
            "align_items": null,
            "align_self": null,
            "border": null,
            "bottom": null,
            "display": null,
            "flex": null,
            "flex_flow": null,
            "grid_area": null,
            "grid_auto_columns": null,
            "grid_auto_flow": null,
            "grid_auto_rows": null,
            "grid_column": null,
            "grid_gap": null,
            "grid_row": null,
            "grid_template_areas": null,
            "grid_template_columns": null,
            "grid_template_rows": null,
            "height": null,
            "justify_content": null,
            "justify_items": null,
            "left": null,
            "margin": null,
            "max_height": null,
            "max_width": null,
            "min_height": null,
            "min_width": null,
            "object_fit": null,
            "object_position": null,
            "order": null,
            "overflow": null,
            "overflow_x": null,
            "overflow_y": null,
            "padding": null,
            "right": null,
            "top": null,
            "visibility": null,
            "width": null
          }
        },
        "406111a70740400ca1c28a356705dabf": {
          "model_module": "@jupyter-widgets/base",
          "model_name": "LayoutModel",
          "model_module_version": "1.2.0",
          "state": {
            "_model_module": "@jupyter-widgets/base",
            "_model_module_version": "1.2.0",
            "_model_name": "LayoutModel",
            "_view_count": null,
            "_view_module": "@jupyter-widgets/base",
            "_view_module_version": "1.2.0",
            "_view_name": "LayoutView",
            "align_content": null,
            "align_items": null,
            "align_self": null,
            "border": null,
            "bottom": null,
            "display": null,
            "flex": null,
            "flex_flow": null,
            "grid_area": null,
            "grid_auto_columns": null,
            "grid_auto_flow": null,
            "grid_auto_rows": null,
            "grid_column": null,
            "grid_gap": null,
            "grid_row": null,
            "grid_template_areas": null,
            "grid_template_columns": null,
            "grid_template_rows": null,
            "height": null,
            "justify_content": null,
            "justify_items": null,
            "left": null,
            "margin": null,
            "max_height": null,
            "max_width": null,
            "min_height": null,
            "min_width": null,
            "object_fit": null,
            "object_position": null,
            "order": null,
            "overflow": null,
            "overflow_x": null,
            "overflow_y": null,
            "padding": null,
            "right": null,
            "top": null,
            "visibility": null,
            "width": null
          }
        },
        "331fb2c36511409583d0ec1a123ce5b7": {
          "model_module": "@jupyter-widgets/controls",
          "model_name": "DescriptionStyleModel",
          "model_module_version": "1.5.0",
          "state": {
            "_model_module": "@jupyter-widgets/controls",
            "_model_module_version": "1.5.0",
            "_model_name": "DescriptionStyleModel",
            "_view_count": null,
            "_view_module": "@jupyter-widgets/base",
            "_view_module_version": "1.2.0",
            "_view_name": "StyleView",
            "description_width": ""
          }
        },
        "cb1d7cd7912b46488e4785e7a908f944": {
          "model_module": "@jupyter-widgets/base",
          "model_name": "LayoutModel",
          "model_module_version": "1.2.0",
          "state": {
            "_model_module": "@jupyter-widgets/base",
            "_model_module_version": "1.2.0",
            "_model_name": "LayoutModel",
            "_view_count": null,
            "_view_module": "@jupyter-widgets/base",
            "_view_module_version": "1.2.0",
            "_view_name": "LayoutView",
            "align_content": null,
            "align_items": null,
            "align_self": null,
            "border": null,
            "bottom": null,
            "display": null,
            "flex": null,
            "flex_flow": null,
            "grid_area": null,
            "grid_auto_columns": null,
            "grid_auto_flow": null,
            "grid_auto_rows": null,
            "grid_column": null,
            "grid_gap": null,
            "grid_row": null,
            "grid_template_areas": null,
            "grid_template_columns": null,
            "grid_template_rows": null,
            "height": null,
            "justify_content": null,
            "justify_items": null,
            "left": null,
            "margin": null,
            "max_height": null,
            "max_width": null,
            "min_height": null,
            "min_width": null,
            "object_fit": null,
            "object_position": null,
            "order": null,
            "overflow": null,
            "overflow_x": null,
            "overflow_y": null,
            "padding": null,
            "right": null,
            "top": null,
            "visibility": null,
            "width": null
          }
        },
        "b40a7b43914d4de2a8a770ef1388a58b": {
          "model_module": "@jupyter-widgets/controls",
          "model_name": "ProgressStyleModel",
          "model_module_version": "1.5.0",
          "state": {
            "_model_module": "@jupyter-widgets/controls",
            "_model_module_version": "1.5.0",
            "_model_name": "ProgressStyleModel",
            "_view_count": null,
            "_view_module": "@jupyter-widgets/base",
            "_view_module_version": "1.2.0",
            "_view_name": "StyleView",
            "bar_color": null,
            "description_width": ""
          }
        },
        "ae5969834cbf43df8158b3f44f11c992": {
          "model_module": "@jupyter-widgets/base",
          "model_name": "LayoutModel",
          "model_module_version": "1.2.0",
          "state": {
            "_model_module": "@jupyter-widgets/base",
            "_model_module_version": "1.2.0",
            "_model_name": "LayoutModel",
            "_view_count": null,
            "_view_module": "@jupyter-widgets/base",
            "_view_module_version": "1.2.0",
            "_view_name": "LayoutView",
            "align_content": null,
            "align_items": null,
            "align_self": null,
            "border": null,
            "bottom": null,
            "display": null,
            "flex": null,
            "flex_flow": null,
            "grid_area": null,
            "grid_auto_columns": null,
            "grid_auto_flow": null,
            "grid_auto_rows": null,
            "grid_column": null,
            "grid_gap": null,
            "grid_row": null,
            "grid_template_areas": null,
            "grid_template_columns": null,
            "grid_template_rows": null,
            "height": null,
            "justify_content": null,
            "justify_items": null,
            "left": null,
            "margin": null,
            "max_height": null,
            "max_width": null,
            "min_height": null,
            "min_width": null,
            "object_fit": null,
            "object_position": null,
            "order": null,
            "overflow": null,
            "overflow_x": null,
            "overflow_y": null,
            "padding": null,
            "right": null,
            "top": null,
            "visibility": null,
            "width": null
          }
        },
        "3311e687b626439d99ea6c2baacb5b2e": {
          "model_module": "@jupyter-widgets/controls",
          "model_name": "DescriptionStyleModel",
          "model_module_version": "1.5.0",
          "state": {
            "_model_module": "@jupyter-widgets/controls",
            "_model_module_version": "1.5.0",
            "_model_name": "DescriptionStyleModel",
            "_view_count": null,
            "_view_module": "@jupyter-widgets/base",
            "_view_module_version": "1.2.0",
            "_view_name": "StyleView",
            "description_width": ""
          }
        },
        "6f1699c069604cd09a7ee5ac0498a09b": {
          "model_module": "@jupyter-widgets/controls",
          "model_name": "HBoxModel",
          "model_module_version": "1.5.0",
          "state": {
            "_dom_classes": [],
            "_model_module": "@jupyter-widgets/controls",
            "_model_module_version": "1.5.0",
            "_model_name": "HBoxModel",
            "_view_count": null,
            "_view_module": "@jupyter-widgets/controls",
            "_view_module_version": "1.5.0",
            "_view_name": "HBoxView",
            "box_style": "",
            "children": [
              "IPY_MODEL_31f37246fe2d4e5bb869391062001078",
              "IPY_MODEL_af8298edbfeb40ccbbe9cedd80572ea8",
              "IPY_MODEL_9076f4ed19d846449e457864a0b0a373"
            ],
            "layout": "IPY_MODEL_a13227f70c51468f98d7a92da1f01bfc"
          }
        },
        "31f37246fe2d4e5bb869391062001078": {
          "model_module": "@jupyter-widgets/controls",
          "model_name": "HTMLModel",
          "model_module_version": "1.5.0",
          "state": {
            "_dom_classes": [],
            "_model_module": "@jupyter-widgets/controls",
            "_model_module_version": "1.5.0",
            "_model_name": "HTMLModel",
            "_view_count": null,
            "_view_module": "@jupyter-widgets/controls",
            "_view_module_version": "1.5.0",
            "_view_name": "HTMLView",
            "description": "",
            "description_tooltip": null,
            "layout": "IPY_MODEL_1e9e07a61a644866a82c91f5db2241b6",
            "placeholder": "​",
            "style": "IPY_MODEL_fbdaa470480a4092b29b03621c5ddbfd",
            "value": "100%"
          }
        },
        "af8298edbfeb40ccbbe9cedd80572ea8": {
          "model_module": "@jupyter-widgets/controls",
          "model_name": "FloatProgressModel",
          "model_module_version": "1.5.0",
          "state": {
            "_dom_classes": [],
            "_model_module": "@jupyter-widgets/controls",
            "_model_module_version": "1.5.0",
            "_model_name": "FloatProgressModel",
            "_view_count": null,
            "_view_module": "@jupyter-widgets/controls",
            "_view_module_version": "1.5.0",
            "_view_name": "ProgressView",
            "bar_style": "success",
            "description": "",
            "description_tooltip": null,
            "layout": "IPY_MODEL_647e45819e734d20ba81e6f9945523ed",
            "max": 10000,
            "min": 0,
            "orientation": "horizontal",
            "style": "IPY_MODEL_69c172538c7b40f5b0821e5d203b4e4e",
            "value": 10000
          }
        },
        "9076f4ed19d846449e457864a0b0a373": {
          "model_module": "@jupyter-widgets/controls",
          "model_name": "HTMLModel",
          "model_module_version": "1.5.0",
          "state": {
            "_dom_classes": [],
            "_model_module": "@jupyter-widgets/controls",
            "_model_module_version": "1.5.0",
            "_model_name": "HTMLModel",
            "_view_count": null,
            "_view_module": "@jupyter-widgets/controls",
            "_view_module_version": "1.5.0",
            "_view_name": "HTMLView",
            "description": "",
            "description_tooltip": null,
            "layout": "IPY_MODEL_b7b7e846e56c4d138b8472f43b77bc16",
            "placeholder": "​",
            "style": "IPY_MODEL_5054044d475c4e3b959ee607b67537c3",
            "value": " 10000/10000 [01:55&lt;00:00, 97.42it/s]"
          }
        },
        "a13227f70c51468f98d7a92da1f01bfc": {
          "model_module": "@jupyter-widgets/base",
          "model_name": "LayoutModel",
          "model_module_version": "1.2.0",
          "state": {
            "_model_module": "@jupyter-widgets/base",
            "_model_module_version": "1.2.0",
            "_model_name": "LayoutModel",
            "_view_count": null,
            "_view_module": "@jupyter-widgets/base",
            "_view_module_version": "1.2.0",
            "_view_name": "LayoutView",
            "align_content": null,
            "align_items": null,
            "align_self": null,
            "border": null,
            "bottom": null,
            "display": null,
            "flex": null,
            "flex_flow": null,
            "grid_area": null,
            "grid_auto_columns": null,
            "grid_auto_flow": null,
            "grid_auto_rows": null,
            "grid_column": null,
            "grid_gap": null,
            "grid_row": null,
            "grid_template_areas": null,
            "grid_template_columns": null,
            "grid_template_rows": null,
            "height": null,
            "justify_content": null,
            "justify_items": null,
            "left": null,
            "margin": null,
            "max_height": null,
            "max_width": null,
            "min_height": null,
            "min_width": null,
            "object_fit": null,
            "object_position": null,
            "order": null,
            "overflow": null,
            "overflow_x": null,
            "overflow_y": null,
            "padding": null,
            "right": null,
            "top": null,
            "visibility": null,
            "width": null
          }
        },
        "1e9e07a61a644866a82c91f5db2241b6": {
          "model_module": "@jupyter-widgets/base",
          "model_name": "LayoutModel",
          "model_module_version": "1.2.0",
          "state": {
            "_model_module": "@jupyter-widgets/base",
            "_model_module_version": "1.2.0",
            "_model_name": "LayoutModel",
            "_view_count": null,
            "_view_module": "@jupyter-widgets/base",
            "_view_module_version": "1.2.0",
            "_view_name": "LayoutView",
            "align_content": null,
            "align_items": null,
            "align_self": null,
            "border": null,
            "bottom": null,
            "display": null,
            "flex": null,
            "flex_flow": null,
            "grid_area": null,
            "grid_auto_columns": null,
            "grid_auto_flow": null,
            "grid_auto_rows": null,
            "grid_column": null,
            "grid_gap": null,
            "grid_row": null,
            "grid_template_areas": null,
            "grid_template_columns": null,
            "grid_template_rows": null,
            "height": null,
            "justify_content": null,
            "justify_items": null,
            "left": null,
            "margin": null,
            "max_height": null,
            "max_width": null,
            "min_height": null,
            "min_width": null,
            "object_fit": null,
            "object_position": null,
            "order": null,
            "overflow": null,
            "overflow_x": null,
            "overflow_y": null,
            "padding": null,
            "right": null,
            "top": null,
            "visibility": null,
            "width": null
          }
        },
        "fbdaa470480a4092b29b03621c5ddbfd": {
          "model_module": "@jupyter-widgets/controls",
          "model_name": "DescriptionStyleModel",
          "model_module_version": "1.5.0",
          "state": {
            "_model_module": "@jupyter-widgets/controls",
            "_model_module_version": "1.5.0",
            "_model_name": "DescriptionStyleModel",
            "_view_count": null,
            "_view_module": "@jupyter-widgets/base",
            "_view_module_version": "1.2.0",
            "_view_name": "StyleView",
            "description_width": ""
          }
        },
        "647e45819e734d20ba81e6f9945523ed": {
          "model_module": "@jupyter-widgets/base",
          "model_name": "LayoutModel",
          "model_module_version": "1.2.0",
          "state": {
            "_model_module": "@jupyter-widgets/base",
            "_model_module_version": "1.2.0",
            "_model_name": "LayoutModel",
            "_view_count": null,
            "_view_module": "@jupyter-widgets/base",
            "_view_module_version": "1.2.0",
            "_view_name": "LayoutView",
            "align_content": null,
            "align_items": null,
            "align_self": null,
            "border": null,
            "bottom": null,
            "display": null,
            "flex": null,
            "flex_flow": null,
            "grid_area": null,
            "grid_auto_columns": null,
            "grid_auto_flow": null,
            "grid_auto_rows": null,
            "grid_column": null,
            "grid_gap": null,
            "grid_row": null,
            "grid_template_areas": null,
            "grid_template_columns": null,
            "grid_template_rows": null,
            "height": null,
            "justify_content": null,
            "justify_items": null,
            "left": null,
            "margin": null,
            "max_height": null,
            "max_width": null,
            "min_height": null,
            "min_width": null,
            "object_fit": null,
            "object_position": null,
            "order": null,
            "overflow": null,
            "overflow_x": null,
            "overflow_y": null,
            "padding": null,
            "right": null,
            "top": null,
            "visibility": null,
            "width": null
          }
        },
        "69c172538c7b40f5b0821e5d203b4e4e": {
          "model_module": "@jupyter-widgets/controls",
          "model_name": "ProgressStyleModel",
          "model_module_version": "1.5.0",
          "state": {
            "_model_module": "@jupyter-widgets/controls",
            "_model_module_version": "1.5.0",
            "_model_name": "ProgressStyleModel",
            "_view_count": null,
            "_view_module": "@jupyter-widgets/base",
            "_view_module_version": "1.2.0",
            "_view_name": "StyleView",
            "bar_color": null,
            "description_width": ""
          }
        },
        "b7b7e846e56c4d138b8472f43b77bc16": {
          "model_module": "@jupyter-widgets/base",
          "model_name": "LayoutModel",
          "model_module_version": "1.2.0",
          "state": {
            "_model_module": "@jupyter-widgets/base",
            "_model_module_version": "1.2.0",
            "_model_name": "LayoutModel",
            "_view_count": null,
            "_view_module": "@jupyter-widgets/base",
            "_view_module_version": "1.2.0",
            "_view_name": "LayoutView",
            "align_content": null,
            "align_items": null,
            "align_self": null,
            "border": null,
            "bottom": null,
            "display": null,
            "flex": null,
            "flex_flow": null,
            "grid_area": null,
            "grid_auto_columns": null,
            "grid_auto_flow": null,
            "grid_auto_rows": null,
            "grid_column": null,
            "grid_gap": null,
            "grid_row": null,
            "grid_template_areas": null,
            "grid_template_columns": null,
            "grid_template_rows": null,
            "height": null,
            "justify_content": null,
            "justify_items": null,
            "left": null,
            "margin": null,
            "max_height": null,
            "max_width": null,
            "min_height": null,
            "min_width": null,
            "object_fit": null,
            "object_position": null,
            "order": null,
            "overflow": null,
            "overflow_x": null,
            "overflow_y": null,
            "padding": null,
            "right": null,
            "top": null,
            "visibility": null,
            "width": null
          }
        },
        "5054044d475c4e3b959ee607b67537c3": {
          "model_module": "@jupyter-widgets/controls",
          "model_name": "DescriptionStyleModel",
          "model_module_version": "1.5.0",
          "state": {
            "_model_module": "@jupyter-widgets/controls",
            "_model_module_version": "1.5.0",
            "_model_name": "DescriptionStyleModel",
            "_view_count": null,
            "_view_module": "@jupyter-widgets/base",
            "_view_module_version": "1.2.0",
            "_view_name": "StyleView",
            "description_width": ""
          }
        },
        "e18d0955d23843ad8345894a10f65e08": {
          "model_module": "@jupyter-widgets/controls",
          "model_name": "HBoxModel",
          "model_module_version": "1.5.0",
          "state": {
            "_dom_classes": [],
            "_model_module": "@jupyter-widgets/controls",
            "_model_module_version": "1.5.0",
            "_model_name": "HBoxModel",
            "_view_count": null,
            "_view_module": "@jupyter-widgets/controls",
            "_view_module_version": "1.5.0",
            "_view_name": "HBoxView",
            "box_style": "",
            "children": [
              "IPY_MODEL_d8bc50df5b784f1193f0e34430a7b8af",
              "IPY_MODEL_0dff6fd7965245698f1049f55138065d",
              "IPY_MODEL_1f80c05a30ea433bbd804f2fefa35a81"
            ],
            "layout": "IPY_MODEL_60fee17424754944af1ca0b2859a27b0"
          }
        },
        "d8bc50df5b784f1193f0e34430a7b8af": {
          "model_module": "@jupyter-widgets/controls",
          "model_name": "HTMLModel",
          "model_module_version": "1.5.0",
          "state": {
            "_dom_classes": [],
            "_model_module": "@jupyter-widgets/controls",
            "_model_module_version": "1.5.0",
            "_model_name": "HTMLModel",
            "_view_count": null,
            "_view_module": "@jupyter-widgets/controls",
            "_view_module_version": "1.5.0",
            "_view_name": "HTMLView",
            "description": "",
            "description_tooltip": null,
            "layout": "IPY_MODEL_fd81ce980f96441aacabf2bacaa0efb5",
            "placeholder": "​",
            "style": "IPY_MODEL_438e6ebd2098462fbe215e9521ef0293",
            "value": " 83%"
          }
        },
        "0dff6fd7965245698f1049f55138065d": {
          "model_module": "@jupyter-widgets/controls",
          "model_name": "FloatProgressModel",
          "model_module_version": "1.5.0",
          "state": {
            "_dom_classes": [],
            "_model_module": "@jupyter-widgets/controls",
            "_model_module_version": "1.5.0",
            "_model_name": "FloatProgressModel",
            "_view_count": null,
            "_view_module": "@jupyter-widgets/controls",
            "_view_module_version": "1.5.0",
            "_view_name": "ProgressView",
            "bar_style": "",
            "description": "",
            "description_tooltip": null,
            "layout": "IPY_MODEL_6bfc9bbcde8c4918a14f4ed5a23cd312",
            "max": 10000,
            "min": 0,
            "orientation": "horizontal",
            "style": "IPY_MODEL_bfc212bfc0174e5faf53d0353101fc1a",
            "value": 8263
          }
        },
        "1f80c05a30ea433bbd804f2fefa35a81": {
          "model_module": "@jupyter-widgets/controls",
          "model_name": "HTMLModel",
          "model_module_version": "1.5.0",
          "state": {
            "_dom_classes": [],
            "_model_module": "@jupyter-widgets/controls",
            "_model_module_version": "1.5.0",
            "_model_name": "HTMLModel",
            "_view_count": null,
            "_view_module": "@jupyter-widgets/controls",
            "_view_module_version": "1.5.0",
            "_view_name": "HTMLView",
            "description": "",
            "description_tooltip": null,
            "layout": "IPY_MODEL_05ed59fd9b534515a4576b63a373fbaf",
            "placeholder": "​",
            "style": "IPY_MODEL_531aa2a2a4ab456a83122082f3909c22",
            "value": " 8263/10000 [01:36&lt;00:21, 80.82it/s]"
          }
        },
        "60fee17424754944af1ca0b2859a27b0": {
          "model_module": "@jupyter-widgets/base",
          "model_name": "LayoutModel",
          "model_module_version": "1.2.0",
          "state": {
            "_model_module": "@jupyter-widgets/base",
            "_model_module_version": "1.2.0",
            "_model_name": "LayoutModel",
            "_view_count": null,
            "_view_module": "@jupyter-widgets/base",
            "_view_module_version": "1.2.0",
            "_view_name": "LayoutView",
            "align_content": null,
            "align_items": null,
            "align_self": null,
            "border": null,
            "bottom": null,
            "display": null,
            "flex": null,
            "flex_flow": null,
            "grid_area": null,
            "grid_auto_columns": null,
            "grid_auto_flow": null,
            "grid_auto_rows": null,
            "grid_column": null,
            "grid_gap": null,
            "grid_row": null,
            "grid_template_areas": null,
            "grid_template_columns": null,
            "grid_template_rows": null,
            "height": null,
            "justify_content": null,
            "justify_items": null,
            "left": null,
            "margin": null,
            "max_height": null,
            "max_width": null,
            "min_height": null,
            "min_width": null,
            "object_fit": null,
            "object_position": null,
            "order": null,
            "overflow": null,
            "overflow_x": null,
            "overflow_y": null,
            "padding": null,
            "right": null,
            "top": null,
            "visibility": null,
            "width": null
          }
        },
        "fd81ce980f96441aacabf2bacaa0efb5": {
          "model_module": "@jupyter-widgets/base",
          "model_name": "LayoutModel",
          "model_module_version": "1.2.0",
          "state": {
            "_model_module": "@jupyter-widgets/base",
            "_model_module_version": "1.2.0",
            "_model_name": "LayoutModel",
            "_view_count": null,
            "_view_module": "@jupyter-widgets/base",
            "_view_module_version": "1.2.0",
            "_view_name": "LayoutView",
            "align_content": null,
            "align_items": null,
            "align_self": null,
            "border": null,
            "bottom": null,
            "display": null,
            "flex": null,
            "flex_flow": null,
            "grid_area": null,
            "grid_auto_columns": null,
            "grid_auto_flow": null,
            "grid_auto_rows": null,
            "grid_column": null,
            "grid_gap": null,
            "grid_row": null,
            "grid_template_areas": null,
            "grid_template_columns": null,
            "grid_template_rows": null,
            "height": null,
            "justify_content": null,
            "justify_items": null,
            "left": null,
            "margin": null,
            "max_height": null,
            "max_width": null,
            "min_height": null,
            "min_width": null,
            "object_fit": null,
            "object_position": null,
            "order": null,
            "overflow": null,
            "overflow_x": null,
            "overflow_y": null,
            "padding": null,
            "right": null,
            "top": null,
            "visibility": null,
            "width": null
          }
        },
        "438e6ebd2098462fbe215e9521ef0293": {
          "model_module": "@jupyter-widgets/controls",
          "model_name": "DescriptionStyleModel",
          "model_module_version": "1.5.0",
          "state": {
            "_model_module": "@jupyter-widgets/controls",
            "_model_module_version": "1.5.0",
            "_model_name": "DescriptionStyleModel",
            "_view_count": null,
            "_view_module": "@jupyter-widgets/base",
            "_view_module_version": "1.2.0",
            "_view_name": "StyleView",
            "description_width": ""
          }
        },
        "6bfc9bbcde8c4918a14f4ed5a23cd312": {
          "model_module": "@jupyter-widgets/base",
          "model_name": "LayoutModel",
          "model_module_version": "1.2.0",
          "state": {
            "_model_module": "@jupyter-widgets/base",
            "_model_module_version": "1.2.0",
            "_model_name": "LayoutModel",
            "_view_count": null,
            "_view_module": "@jupyter-widgets/base",
            "_view_module_version": "1.2.0",
            "_view_name": "LayoutView",
            "align_content": null,
            "align_items": null,
            "align_self": null,
            "border": null,
            "bottom": null,
            "display": null,
            "flex": null,
            "flex_flow": null,
            "grid_area": null,
            "grid_auto_columns": null,
            "grid_auto_flow": null,
            "grid_auto_rows": null,
            "grid_column": null,
            "grid_gap": null,
            "grid_row": null,
            "grid_template_areas": null,
            "grid_template_columns": null,
            "grid_template_rows": null,
            "height": null,
            "justify_content": null,
            "justify_items": null,
            "left": null,
            "margin": null,
            "max_height": null,
            "max_width": null,
            "min_height": null,
            "min_width": null,
            "object_fit": null,
            "object_position": null,
            "order": null,
            "overflow": null,
            "overflow_x": null,
            "overflow_y": null,
            "padding": null,
            "right": null,
            "top": null,
            "visibility": null,
            "width": null
          }
        },
        "bfc212bfc0174e5faf53d0353101fc1a": {
          "model_module": "@jupyter-widgets/controls",
          "model_name": "ProgressStyleModel",
          "model_module_version": "1.5.0",
          "state": {
            "_model_module": "@jupyter-widgets/controls",
            "_model_module_version": "1.5.0",
            "_model_name": "ProgressStyleModel",
            "_view_count": null,
            "_view_module": "@jupyter-widgets/base",
            "_view_module_version": "1.2.0",
            "_view_name": "StyleView",
            "bar_color": null,
            "description_width": ""
          }
        },
        "05ed59fd9b534515a4576b63a373fbaf": {
          "model_module": "@jupyter-widgets/base",
          "model_name": "LayoutModel",
          "model_module_version": "1.2.0",
          "state": {
            "_model_module": "@jupyter-widgets/base",
            "_model_module_version": "1.2.0",
            "_model_name": "LayoutModel",
            "_view_count": null,
            "_view_module": "@jupyter-widgets/base",
            "_view_module_version": "1.2.0",
            "_view_name": "LayoutView",
            "align_content": null,
            "align_items": null,
            "align_self": null,
            "border": null,
            "bottom": null,
            "display": null,
            "flex": null,
            "flex_flow": null,
            "grid_area": null,
            "grid_auto_columns": null,
            "grid_auto_flow": null,
            "grid_auto_rows": null,
            "grid_column": null,
            "grid_gap": null,
            "grid_row": null,
            "grid_template_areas": null,
            "grid_template_columns": null,
            "grid_template_rows": null,
            "height": null,
            "justify_content": null,
            "justify_items": null,
            "left": null,
            "margin": null,
            "max_height": null,
            "max_width": null,
            "min_height": null,
            "min_width": null,
            "object_fit": null,
            "object_position": null,
            "order": null,
            "overflow": null,
            "overflow_x": null,
            "overflow_y": null,
            "padding": null,
            "right": null,
            "top": null,
            "visibility": null,
            "width": null
          }
        },
        "531aa2a2a4ab456a83122082f3909c22": {
          "model_module": "@jupyter-widgets/controls",
          "model_name": "DescriptionStyleModel",
          "model_module_version": "1.5.0",
          "state": {
            "_model_module": "@jupyter-widgets/controls",
            "_model_module_version": "1.5.0",
            "_model_name": "DescriptionStyleModel",
            "_view_count": null,
            "_view_module": "@jupyter-widgets/base",
            "_view_module_version": "1.2.0",
            "_view_name": "StyleView",
            "description_width": ""
          }
        },
        "b66c8d25ed014f09a331a6ae009ae163": {
          "model_module": "@jupyter-widgets/controls",
          "model_name": "HBoxModel",
          "model_module_version": "1.5.0",
          "state": {
            "_view_name": "HBoxView",
            "_dom_classes": [],
            "_model_name": "HBoxModel",
            "_view_module": "@jupyter-widgets/controls",
            "_model_module_version": "1.5.0",
            "_view_count": null,
            "_view_module_version": "1.5.0",
            "box_style": "",
            "layout": "IPY_MODEL_6792f5e2fceb41149e3f1647ae3e8fc5",
            "_model_module": "@jupyter-widgets/controls",
            "children": [
              "IPY_MODEL_b9e37a7dbf234df196aa64446c280a0f",
              "IPY_MODEL_dc9f7d7c63de4215aaf3985cb1162e3a",
              "IPY_MODEL_d4bb9e37507b40f78c578fd4ad5d8980"
            ]
          }
        },
        "6792f5e2fceb41149e3f1647ae3e8fc5": {
          "model_module": "@jupyter-widgets/base",
          "model_name": "LayoutModel",
          "model_module_version": "1.2.0",
          "state": {
            "_view_name": "LayoutView",
            "grid_template_rows": null,
            "right": null,
            "justify_content": null,
            "_view_module": "@jupyter-widgets/base",
            "overflow": null,
            "_model_module_version": "1.2.0",
            "_view_count": null,
            "flex_flow": null,
            "width": null,
            "min_width": null,
            "border": null,
            "align_items": null,
            "bottom": null,
            "_model_module": "@jupyter-widgets/base",
            "top": null,
            "grid_column": null,
            "overflow_y": null,
            "overflow_x": null,
            "grid_auto_flow": null,
            "grid_area": null,
            "grid_template_columns": null,
            "flex": null,
            "_model_name": "LayoutModel",
            "justify_items": null,
            "grid_row": null,
            "max_height": null,
            "align_content": null,
            "visibility": null,
            "align_self": null,
            "height": null,
            "min_height": null,
            "padding": null,
            "grid_auto_rows": null,
            "grid_gap": null,
            "max_width": null,
            "order": null,
            "_view_module_version": "1.2.0",
            "grid_template_areas": null,
            "object_position": null,
            "object_fit": null,
            "grid_auto_columns": null,
            "margin": null,
            "display": null,
            "left": null
          }
        },
        "b9e37a7dbf234df196aa64446c280a0f": {
          "model_module": "@jupyter-widgets/controls",
          "model_name": "HTMLModel",
          "model_module_version": "1.5.0",
          "state": {
            "_view_name": "HTMLView",
            "style": "IPY_MODEL_44ca0c402cef4309af4bf12286f8ba89",
            "_dom_classes": [],
            "description": "",
            "_model_name": "HTMLModel",
            "placeholder": "​",
            "_view_module": "@jupyter-widgets/controls",
            "_model_module_version": "1.5.0",
            "value": "100%",
            "_view_count": null,
            "_view_module_version": "1.5.0",
            "description_tooltip": null,
            "_model_module": "@jupyter-widgets/controls",
            "layout": "IPY_MODEL_3ffcbbb39d68471b91b4e432d4a616f1"
          }
        },
        "dc9f7d7c63de4215aaf3985cb1162e3a": {
          "model_module": "@jupyter-widgets/controls",
          "model_name": "FloatProgressModel",
          "model_module_version": "1.5.0",
          "state": {
            "_view_name": "ProgressView",
            "style": "IPY_MODEL_3691dbb6fb4a472f87e1ee9fb2e300df",
            "_dom_classes": [],
            "description": "",
            "_model_name": "FloatProgressModel",
            "bar_style": "success",
            "max": 10000,
            "_view_module": "@jupyter-widgets/controls",
            "_model_module_version": "1.5.0",
            "value": 10000,
            "_view_count": null,
            "_view_module_version": "1.5.0",
            "orientation": "horizontal",
            "min": 0,
            "description_tooltip": null,
            "_model_module": "@jupyter-widgets/controls",
            "layout": "IPY_MODEL_c00ae0aa835e438b90e549380f1f5983"
          }
        },
        "d4bb9e37507b40f78c578fd4ad5d8980": {
          "model_module": "@jupyter-widgets/controls",
          "model_name": "HTMLModel",
          "model_module_version": "1.5.0",
          "state": {
            "_view_name": "HTMLView",
            "style": "IPY_MODEL_e63c013a9bec489abb3b1b3e13f61e15",
            "_dom_classes": [],
            "description": "",
            "_model_name": "HTMLModel",
            "placeholder": "​",
            "_view_module": "@jupyter-widgets/controls",
            "_model_module_version": "1.5.0",
            "value": " 10000/10000 [00:08&lt;00:00, 1129.93it/s]",
            "_view_count": null,
            "_view_module_version": "1.5.0",
            "description_tooltip": null,
            "_model_module": "@jupyter-widgets/controls",
            "layout": "IPY_MODEL_1821e7d18401493f80c5890de24de498"
          }
        },
        "44ca0c402cef4309af4bf12286f8ba89": {
          "model_module": "@jupyter-widgets/controls",
          "model_name": "DescriptionStyleModel",
          "model_module_version": "1.5.0",
          "state": {
            "_view_name": "StyleView",
            "_model_name": "DescriptionStyleModel",
            "description_width": "",
            "_view_module": "@jupyter-widgets/base",
            "_model_module_version": "1.5.0",
            "_view_count": null,
            "_view_module_version": "1.2.0",
            "_model_module": "@jupyter-widgets/controls"
          }
        },
        "3ffcbbb39d68471b91b4e432d4a616f1": {
          "model_module": "@jupyter-widgets/base",
          "model_name": "LayoutModel",
          "model_module_version": "1.2.0",
          "state": {
            "_view_name": "LayoutView",
            "grid_template_rows": null,
            "right": null,
            "justify_content": null,
            "_view_module": "@jupyter-widgets/base",
            "overflow": null,
            "_model_module_version": "1.2.0",
            "_view_count": null,
            "flex_flow": null,
            "width": null,
            "min_width": null,
            "border": null,
            "align_items": null,
            "bottom": null,
            "_model_module": "@jupyter-widgets/base",
            "top": null,
            "grid_column": null,
            "overflow_y": null,
            "overflow_x": null,
            "grid_auto_flow": null,
            "grid_area": null,
            "grid_template_columns": null,
            "flex": null,
            "_model_name": "LayoutModel",
            "justify_items": null,
            "grid_row": null,
            "max_height": null,
            "align_content": null,
            "visibility": null,
            "align_self": null,
            "height": null,
            "min_height": null,
            "padding": null,
            "grid_auto_rows": null,
            "grid_gap": null,
            "max_width": null,
            "order": null,
            "_view_module_version": "1.2.0",
            "grid_template_areas": null,
            "object_position": null,
            "object_fit": null,
            "grid_auto_columns": null,
            "margin": null,
            "display": null,
            "left": null
          }
        },
        "3691dbb6fb4a472f87e1ee9fb2e300df": {
          "model_module": "@jupyter-widgets/controls",
          "model_name": "ProgressStyleModel",
          "model_module_version": "1.5.0",
          "state": {
            "_view_name": "StyleView",
            "_model_name": "ProgressStyleModel",
            "description_width": "",
            "_view_module": "@jupyter-widgets/base",
            "_model_module_version": "1.5.0",
            "_view_count": null,
            "_view_module_version": "1.2.0",
            "bar_color": null,
            "_model_module": "@jupyter-widgets/controls"
          }
        },
        "c00ae0aa835e438b90e549380f1f5983": {
          "model_module": "@jupyter-widgets/base",
          "model_name": "LayoutModel",
          "model_module_version": "1.2.0",
          "state": {
            "_view_name": "LayoutView",
            "grid_template_rows": null,
            "right": null,
            "justify_content": null,
            "_view_module": "@jupyter-widgets/base",
            "overflow": null,
            "_model_module_version": "1.2.0",
            "_view_count": null,
            "flex_flow": null,
            "width": null,
            "min_width": null,
            "border": null,
            "align_items": null,
            "bottom": null,
            "_model_module": "@jupyter-widgets/base",
            "top": null,
            "grid_column": null,
            "overflow_y": null,
            "overflow_x": null,
            "grid_auto_flow": null,
            "grid_area": null,
            "grid_template_columns": null,
            "flex": null,
            "_model_name": "LayoutModel",
            "justify_items": null,
            "grid_row": null,
            "max_height": null,
            "align_content": null,
            "visibility": null,
            "align_self": null,
            "height": null,
            "min_height": null,
            "padding": null,
            "grid_auto_rows": null,
            "grid_gap": null,
            "max_width": null,
            "order": null,
            "_view_module_version": "1.2.0",
            "grid_template_areas": null,
            "object_position": null,
            "object_fit": null,
            "grid_auto_columns": null,
            "margin": null,
            "display": null,
            "left": null
          }
        },
        "e63c013a9bec489abb3b1b3e13f61e15": {
          "model_module": "@jupyter-widgets/controls",
          "model_name": "DescriptionStyleModel",
          "model_module_version": "1.5.0",
          "state": {
            "_view_name": "StyleView",
            "_model_name": "DescriptionStyleModel",
            "description_width": "",
            "_view_module": "@jupyter-widgets/base",
            "_model_module_version": "1.5.0",
            "_view_count": null,
            "_view_module_version": "1.2.0",
            "_model_module": "@jupyter-widgets/controls"
          }
        },
        "1821e7d18401493f80c5890de24de498": {
          "model_module": "@jupyter-widgets/base",
          "model_name": "LayoutModel",
          "model_module_version": "1.2.0",
          "state": {
            "_view_name": "LayoutView",
            "grid_template_rows": null,
            "right": null,
            "justify_content": null,
            "_view_module": "@jupyter-widgets/base",
            "overflow": null,
            "_model_module_version": "1.2.0",
            "_view_count": null,
            "flex_flow": null,
            "width": null,
            "min_width": null,
            "border": null,
            "align_items": null,
            "bottom": null,
            "_model_module": "@jupyter-widgets/base",
            "top": null,
            "grid_column": null,
            "overflow_y": null,
            "overflow_x": null,
            "grid_auto_flow": null,
            "grid_area": null,
            "grid_template_columns": null,
            "flex": null,
            "_model_name": "LayoutModel",
            "justify_items": null,
            "grid_row": null,
            "max_height": null,
            "align_content": null,
            "visibility": null,
            "align_self": null,
            "height": null,
            "min_height": null,
            "padding": null,
            "grid_auto_rows": null,
            "grid_gap": null,
            "max_width": null,
            "order": null,
            "_view_module_version": "1.2.0",
            "grid_template_areas": null,
            "object_position": null,
            "object_fit": null,
            "grid_auto_columns": null,
            "margin": null,
            "display": null,
            "left": null
          }
        },
        "1f3cdd02ec97469f83ba6cb720a1a25c": {
          "model_module": "@jupyter-widgets/controls",
          "model_name": "HBoxModel",
          "model_module_version": "1.5.0",
          "state": {
            "_view_name": "HBoxView",
            "_dom_classes": [],
            "_model_name": "HBoxModel",
            "_view_module": "@jupyter-widgets/controls",
            "_model_module_version": "1.5.0",
            "_view_count": null,
            "_view_module_version": "1.5.0",
            "box_style": "",
            "layout": "IPY_MODEL_ee623e976a5742c189dfedf70340bdb6",
            "_model_module": "@jupyter-widgets/controls",
            "children": [
              "IPY_MODEL_68a6bfcda90c4869b5721b8290cc5777",
              "IPY_MODEL_af9b6e1607c349a3a9f91ea112003156",
              "IPY_MODEL_9e533c4ba75c45729aba8687d3f69c11"
            ]
          }
        },
        "ee623e976a5742c189dfedf70340bdb6": {
          "model_module": "@jupyter-widgets/base",
          "model_name": "LayoutModel",
          "model_module_version": "1.2.0",
          "state": {
            "_view_name": "LayoutView",
            "grid_template_rows": null,
            "right": null,
            "justify_content": null,
            "_view_module": "@jupyter-widgets/base",
            "overflow": null,
            "_model_module_version": "1.2.0",
            "_view_count": null,
            "flex_flow": null,
            "width": null,
            "min_width": null,
            "border": null,
            "align_items": null,
            "bottom": null,
            "_model_module": "@jupyter-widgets/base",
            "top": null,
            "grid_column": null,
            "overflow_y": null,
            "overflow_x": null,
            "grid_auto_flow": null,
            "grid_area": null,
            "grid_template_columns": null,
            "flex": null,
            "_model_name": "LayoutModel",
            "justify_items": null,
            "grid_row": null,
            "max_height": null,
            "align_content": null,
            "visibility": null,
            "align_self": null,
            "height": null,
            "min_height": null,
            "padding": null,
            "grid_auto_rows": null,
            "grid_gap": null,
            "max_width": null,
            "order": null,
            "_view_module_version": "1.2.0",
            "grid_template_areas": null,
            "object_position": null,
            "object_fit": null,
            "grid_auto_columns": null,
            "margin": null,
            "display": null,
            "left": null
          }
        },
        "68a6bfcda90c4869b5721b8290cc5777": {
          "model_module": "@jupyter-widgets/controls",
          "model_name": "HTMLModel",
          "model_module_version": "1.5.0",
          "state": {
            "_view_name": "HTMLView",
            "style": "IPY_MODEL_368b0e15717a412a97207c2dc5db2e3a",
            "_dom_classes": [],
            "description": "",
            "_model_name": "HTMLModel",
            "placeholder": "​",
            "_view_module": "@jupyter-widgets/controls",
            "_model_module_version": "1.5.0",
            "value": "100%",
            "_view_count": null,
            "_view_module_version": "1.5.0",
            "description_tooltip": null,
            "_model_module": "@jupyter-widgets/controls",
            "layout": "IPY_MODEL_9265772ff6364b7387bec6e6eef4797a"
          }
        },
        "af9b6e1607c349a3a9f91ea112003156": {
          "model_module": "@jupyter-widgets/controls",
          "model_name": "FloatProgressModel",
          "model_module_version": "1.5.0",
          "state": {
            "_view_name": "ProgressView",
            "style": "IPY_MODEL_2c85172128c24661ba17082e6208466c",
            "_dom_classes": [],
            "description": "",
            "_model_name": "FloatProgressModel",
            "bar_style": "success",
            "max": 10000,
            "_view_module": "@jupyter-widgets/controls",
            "_model_module_version": "1.5.0",
            "value": 10000,
            "_view_count": null,
            "_view_module_version": "1.5.0",
            "orientation": "horizontal",
            "min": 0,
            "description_tooltip": null,
            "_model_module": "@jupyter-widgets/controls",
            "layout": "IPY_MODEL_cf0cf48c8a944c24807e75ff0b784d80"
          }
        },
        "9e533c4ba75c45729aba8687d3f69c11": {
          "model_module": "@jupyter-widgets/controls",
          "model_name": "HTMLModel",
          "model_module_version": "1.5.0",
          "state": {
            "_view_name": "HTMLView",
            "style": "IPY_MODEL_3ddf46539fac41fc97991e13ed71c71c",
            "_dom_classes": [],
            "description": "",
            "_model_name": "HTMLModel",
            "placeholder": "​",
            "_view_module": "@jupyter-widgets/controls",
            "_model_module_version": "1.5.0",
            "value": " 10000/10000 [00:18&lt;00:00, 536.32it/s]",
            "_view_count": null,
            "_view_module_version": "1.5.0",
            "description_tooltip": null,
            "_model_module": "@jupyter-widgets/controls",
            "layout": "IPY_MODEL_2a342d54705f420bb470cc2b030cb5fa"
          }
        },
        "368b0e15717a412a97207c2dc5db2e3a": {
          "model_module": "@jupyter-widgets/controls",
          "model_name": "DescriptionStyleModel",
          "model_module_version": "1.5.0",
          "state": {
            "_view_name": "StyleView",
            "_model_name": "DescriptionStyleModel",
            "description_width": "",
            "_view_module": "@jupyter-widgets/base",
            "_model_module_version": "1.5.0",
            "_view_count": null,
            "_view_module_version": "1.2.0",
            "_model_module": "@jupyter-widgets/controls"
          }
        },
        "9265772ff6364b7387bec6e6eef4797a": {
          "model_module": "@jupyter-widgets/base",
          "model_name": "LayoutModel",
          "model_module_version": "1.2.0",
          "state": {
            "_view_name": "LayoutView",
            "grid_template_rows": null,
            "right": null,
            "justify_content": null,
            "_view_module": "@jupyter-widgets/base",
            "overflow": null,
            "_model_module_version": "1.2.0",
            "_view_count": null,
            "flex_flow": null,
            "width": null,
            "min_width": null,
            "border": null,
            "align_items": null,
            "bottom": null,
            "_model_module": "@jupyter-widgets/base",
            "top": null,
            "grid_column": null,
            "overflow_y": null,
            "overflow_x": null,
            "grid_auto_flow": null,
            "grid_area": null,
            "grid_template_columns": null,
            "flex": null,
            "_model_name": "LayoutModel",
            "justify_items": null,
            "grid_row": null,
            "max_height": null,
            "align_content": null,
            "visibility": null,
            "align_self": null,
            "height": null,
            "min_height": null,
            "padding": null,
            "grid_auto_rows": null,
            "grid_gap": null,
            "max_width": null,
            "order": null,
            "_view_module_version": "1.2.0",
            "grid_template_areas": null,
            "object_position": null,
            "object_fit": null,
            "grid_auto_columns": null,
            "margin": null,
            "display": null,
            "left": null
          }
        },
        "2c85172128c24661ba17082e6208466c": {
          "model_module": "@jupyter-widgets/controls",
          "model_name": "ProgressStyleModel",
          "model_module_version": "1.5.0",
          "state": {
            "_view_name": "StyleView",
            "_model_name": "ProgressStyleModel",
            "description_width": "",
            "_view_module": "@jupyter-widgets/base",
            "_model_module_version": "1.5.0",
            "_view_count": null,
            "_view_module_version": "1.2.0",
            "bar_color": null,
            "_model_module": "@jupyter-widgets/controls"
          }
        },
        "cf0cf48c8a944c24807e75ff0b784d80": {
          "model_module": "@jupyter-widgets/base",
          "model_name": "LayoutModel",
          "model_module_version": "1.2.0",
          "state": {
            "_view_name": "LayoutView",
            "grid_template_rows": null,
            "right": null,
            "justify_content": null,
            "_view_module": "@jupyter-widgets/base",
            "overflow": null,
            "_model_module_version": "1.2.0",
            "_view_count": null,
            "flex_flow": null,
            "width": null,
            "min_width": null,
            "border": null,
            "align_items": null,
            "bottom": null,
            "_model_module": "@jupyter-widgets/base",
            "top": null,
            "grid_column": null,
            "overflow_y": null,
            "overflow_x": null,
            "grid_auto_flow": null,
            "grid_area": null,
            "grid_template_columns": null,
            "flex": null,
            "_model_name": "LayoutModel",
            "justify_items": null,
            "grid_row": null,
            "max_height": null,
            "align_content": null,
            "visibility": null,
            "align_self": null,
            "height": null,
            "min_height": null,
            "padding": null,
            "grid_auto_rows": null,
            "grid_gap": null,
            "max_width": null,
            "order": null,
            "_view_module_version": "1.2.0",
            "grid_template_areas": null,
            "object_position": null,
            "object_fit": null,
            "grid_auto_columns": null,
            "margin": null,
            "display": null,
            "left": null
          }
        },
        "3ddf46539fac41fc97991e13ed71c71c": {
          "model_module": "@jupyter-widgets/controls",
          "model_name": "DescriptionStyleModel",
          "model_module_version": "1.5.0",
          "state": {
            "_view_name": "StyleView",
            "_model_name": "DescriptionStyleModel",
            "description_width": "",
            "_view_module": "@jupyter-widgets/base",
            "_model_module_version": "1.5.0",
            "_view_count": null,
            "_view_module_version": "1.2.0",
            "_model_module": "@jupyter-widgets/controls"
          }
        },
        "2a342d54705f420bb470cc2b030cb5fa": {
          "model_module": "@jupyter-widgets/base",
          "model_name": "LayoutModel",
          "model_module_version": "1.2.0",
          "state": {
            "_view_name": "LayoutView",
            "grid_template_rows": null,
            "right": null,
            "justify_content": null,
            "_view_module": "@jupyter-widgets/base",
            "overflow": null,
            "_model_module_version": "1.2.0",
            "_view_count": null,
            "flex_flow": null,
            "width": null,
            "min_width": null,
            "border": null,
            "align_items": null,
            "bottom": null,
            "_model_module": "@jupyter-widgets/base",
            "top": null,
            "grid_column": null,
            "overflow_y": null,
            "overflow_x": null,
            "grid_auto_flow": null,
            "grid_area": null,
            "grid_template_columns": null,
            "flex": null,
            "_model_name": "LayoutModel",
            "justify_items": null,
            "grid_row": null,
            "max_height": null,
            "align_content": null,
            "visibility": null,
            "align_self": null,
            "height": null,
            "min_height": null,
            "padding": null,
            "grid_auto_rows": null,
            "grid_gap": null,
            "max_width": null,
            "order": null,
            "_view_module_version": "1.2.0",
            "grid_template_areas": null,
            "object_position": null,
            "object_fit": null,
            "grid_auto_columns": null,
            "margin": null,
            "display": null,
            "left": null
          }
        }
      }
    }
  },
  "cells": [
    {
      "cell_type": "markdown",
      "metadata": {
        "id": "fdJfcmwNZ0Ci"
      },
      "source": [
        "# RL and Advanced DL: Домашнее задание 2\n",
        "Мартиросян Завен  \n",
        "martirosian.z@mail.ru\n"
      ]
    },
    {
      "cell_type": "markdown",
      "metadata": {
        "id": "zexM8SC1gMVg"
      },
      "source": [
        "# Часть первая: крестики-нолики при помощи Q-обучения  "
      ]
    },
    {
      "cell_type": "code",
      "metadata": {
        "id": "0aCZYuiAK3aL"
      },
      "source": [
        "import gym\n",
        "\n",
        "import matplotlib.pyplot as plt\n",
        "\n",
        "import random\n",
        "import math\n",
        "import numpy as np\n",
        "import scipy as sp\n",
        "import scipy.stats as st\n",
        "from tqdm.notebook import tqdm_notebook\n",
        "from copy import deepcopy\n",
        "from collections import namedtuple\n",
        "\n",
        "import torch\n",
        "import torch.nn as nn\n",
        "import torch.optim as optim\n",
        "import torch.nn.functional as F\n",
        "import torchvision.transforms as T\n",
        "from torch.autograd import Variable\n",
        "\n",
        "figsize = (15,8)\n",
        "legend_fontsize = 16\n",
        "%matplotlib inline"
      ],
      "execution_count": 47,
      "outputs": []
    },
    {
      "cell_type": "code",
      "metadata": {
        "id": "GDKN6tl7K3aQ"
      },
      "source": [
        "N_ROWS, N_COLS, N_WIN = 3, 3, 3"
      ],
      "execution_count": null,
      "outputs": []
    },
    {
      "cell_type": "code",
      "metadata": {
        "id": "9g_v-0diK3aQ"
      },
      "source": [
        "class TicTacToe(gym.Env):\n",
        "    def __init__(self, n_rows=N_ROWS, n_cols=N_COLS, n_win=N_WIN):\n",
        "        self.n_rows = n_rows\n",
        "        self.n_cols = n_cols\n",
        "        self.n_win = n_win\n",
        "\n",
        "        self.board = np.zeros((self.n_rows, self.n_cols), dtype=int)\n",
        "        self.gameOver = False\n",
        "        self.boardHash = None\n",
        "        self.curTurn = 1\n",
        "        self.emptySpaces = None\n",
        "        \n",
        "        self.reset()\n",
        "\n",
        "    def getEmptySpaces(self):\n",
        "        if self.emptySpaces is None:\n",
        "            res = np.where(self.board == 0)\n",
        "            self.emptySpaces = np.array([ (i, j) for i,j in zip(res[0], res[1]) ])\n",
        "        return self.emptySpaces\n",
        "\n",
        "    def makeMove(self, player, i, j):\n",
        "        self.board[i, j] = player\n",
        "        self.emptySpaces = None\n",
        "        self.boardHash = None\n",
        "\n",
        "    def getHash(self):\n",
        "        if self.boardHash is None:\n",
        "            self.boardHash = ''.join(['%s' % (x+1) for x in self.board.reshape(self.n_rows * self.n_cols)])\n",
        "        return self.boardHash\n",
        "\n",
        "    def isTerminal(self):\n",
        "        cur_marks, cur_p = np.where(self.board == self.curTurn), self.curTurn\n",
        "        for i,j in zip(cur_marks[0], cur_marks[1]):\n",
        "            win = False\n",
        "            if i <= self.n_rows - self.n_win:\n",
        "                if np.all(self.board[i:i+self.n_win, j] == cur_p):\n",
        "                    win = True\n",
        "            if not win:\n",
        "                if j <= self.n_cols - self.n_win:\n",
        "                    if np.all(self.board[i,j:j+self.n_win] == cur_p):\n",
        "                        win = True\n",
        "            if not win:\n",
        "                if i <= self.n_rows - self.n_win and j <= self.n_cols - self.n_win:\n",
        "                    if np.all(np.array([ self.board[i+k,j+k] == cur_p for k in range(self.n_win) ])):\n",
        "                        win = True\n",
        "            if not win:\n",
        "                if i <= self.n_rows - self.n_win and j >= self.n_win-1:\n",
        "                    if np.all(np.array([ self.board[i+k,j-k] == cur_p for k in range(self.n_win) ])):\n",
        "                        win = True\n",
        "            if win:\n",
        "                self.gameOver = True\n",
        "                return self.curTurn\n",
        "\n",
        "        if len(self.getEmptySpaces()) == 0:\n",
        "            self.gameOver = True\n",
        "            return 0\n",
        "\n",
        "        self.gameOver = False\n",
        "        return None\n",
        "\n",
        "    def printBoard(self):\n",
        "        for i in range(0, self.n_rows):\n",
        "            print('----'*(self.n_cols)+'-')\n",
        "            out = '| '\n",
        "            for j in range(0, self.n_cols):\n",
        "                if self.board[i, j] == 1:\n",
        "                    token = 'x'\n",
        "                if self.board[i, j] == -1:\n",
        "                    token = 'o'\n",
        "                if self.board[i, j] == 0:\n",
        "                    token = ' '\n",
        "                out += token + ' | '\n",
        "            print(out)\n",
        "        print('----'*(self.n_cols)+'-')\n",
        "\n",
        "    def getState(self):\n",
        "        return (self.getHash(), self.getEmptySpaces(), self.curTurn)\n",
        "\n",
        "    def action_from_int(self, action_int):\n",
        "        return ( int(action_int / self.n_cols), int(action_int % self.n_cols))\n",
        "\n",
        "    def int_from_action(self, action):\n",
        "        return action[0] * self.n_cols + action[1]\n",
        "    \n",
        "    def step(self, action):\n",
        "        if self.board[action[0], action[1]] != 0:\n",
        "            return self.getState(), -10, True, {}\n",
        "        self.makeMove(self.curTurn, action[0], action[1])\n",
        "        reward = self.isTerminal()\n",
        "        self.curTurn = -self.curTurn\n",
        "        return self.getState(), 0 if reward is None else reward, reward is not None, {}\n",
        "\n",
        "    def reset(self):\n",
        "        self.board = np.zeros((self.n_rows, self.n_cols), dtype=int)\n",
        "        self.boardHash = None\n",
        "        self.gameOver = False\n",
        "        self.emptySpaces = None\n",
        "        self.curTurn = 1"
      ],
      "execution_count": null,
      "outputs": []
    },
    {
      "cell_type": "markdown",
      "metadata": {
        "id": "fsZwTCPaK3aS"
      },
      "source": [
        "# 1. Реализуйте обычное (табличное) Q-обучение. \n",
        "Обучите стратегии крестиков и ноликов для доски 3х3."
      ]
    },
    {
      "cell_type": "code",
      "metadata": {
        "id": "qWEEB1nWK3aW"
      },
      "source": [
        "env = TicTacToe()"
      ],
      "execution_count": null,
      "outputs": []
    },
    {
      "cell_type": "code",
      "metadata": {
        "id": "dPdyl38rK3aX"
      },
      "source": [
        "def e_greedy(env, Q, epsilon = 0.01):\n",
        "    possible_actions = [env.int_from_action(env.getEmptySpaces()[i]) for i in range(len(env.getEmptySpaces()))]\n",
        "    if env.getState()[0] not in Q.keys():\n",
        "        Q[env.getState()[0]] = np.zeros(len(possible_actions))\n",
        "        \n",
        "    if np.random.random() > epsilon:\n",
        "        return np.argmax(Q[env.getState()[0]]), possible_actions[np.argmax(Q[env.getState()[0]])]\n",
        "    else:\n",
        "        ch = np.random.choice(len(possible_actions))\n",
        "        return ch, possible_actions[ch]"
      ],
      "execution_count": null,
      "outputs": []
    },
    {
      "cell_type": "code",
      "metadata": {
        "id": "BN2iTh_hK3aY"
      },
      "source": [
        "def Q_learning_episode(strategy, env, Q, lr = 0.01, gamma = 1., crosses = 1, *args, **kwargs):\n",
        "    env.reset()\n",
        "    if env.curTurn != crosses:\n",
        "        possible_actions = [env.int_from_action(env.getEmptySpaces()[i]) for i in range(len(env.getEmptySpaces()))]\n",
        "        opponents_action = np.random.choice(possible_actions)\n",
        "        env.step(env.action_from_int(opponents_action))\n",
        "        \n",
        "    while True:\n",
        "        state = env.getState()[0]\n",
        "        q_action, action = strategy(env, Q, *args, **kwargs)\n",
        "\n",
        "        _, reward, done, _ = env.step(env.action_from_int(action))\n",
        "        reward = crosses * reward\n",
        "        if done:\n",
        "            Q[state][q_action] += lr * (reward  - Q[state][q_action])\n",
        "            return reward\n",
        "\n",
        "        possible_actions = [env.int_from_action(env.getEmptySpaces()[i]) for i in range(len(env.getEmptySpaces()))]\n",
        "        opponents_action = np.random.choice(possible_actions)\n",
        "\n",
        "        next_state_, reward, done, _ = env.step(env.action_from_int(opponents_action))\n",
        "        reward = crosses * reward\n",
        "        if done:\n",
        "            Q[state][q_action] += lr * (reward  - Q[state][q_action])\n",
        "            return reward\n",
        "            \n",
        "        next_state = next_state_[0]\n",
        "        if next_state in Q.keys():\n",
        "            Q[state][q_action] += lr * (reward + gamma * np.max(Q[next_state]) - Q[state][q_action])\n",
        "        else:\n",
        "            possible_actions = [env.int_from_action(env.getEmptySpaces()[i]) for i in range(len(env.getEmptySpaces()))]\n",
        "            Q[next_state] = np.zeros(len(possible_actions))\n",
        "            Q[state][q_action] += lr * (reward + gamma * np.max(Q[next_state]) - Q[state][q_action])"
      ],
      "execution_count": null,
      "outputs": []
    },
    {
      "cell_type": "code",
      "metadata": {
        "id": "PZSu3cFUK3aY"
      },
      "source": [
        "def run_many_games_Q_learning(strategy, env = TicTacToe(), n_games = 100000, verbose = True, print_every = 1000, crosses = 1, *args, **kwargs):\n",
        "    mean_game_rewards = []\n",
        "    avg_every = []\n",
        "    Q = {}\n",
        "    for i in tqdm_notebook(range(n_games)):\n",
        "        R = Q_learning_episode(strategy, env, Q, crosses = crosses, *args, **kwargs)\n",
        "        avg_every.append(R)\n",
        "        if ((i + 1) % print_every == 0):\n",
        "            if verbose:\n",
        "                print(\"{}/{}\".format(i + 1, n_games) + \" avg rewards: {}\".format(np.mean(avg_every)))\n",
        "            mean_game_rewards.append(np.mean(avg_every))\n",
        "            avg_every = []\n",
        "    return Q, mean_game_rewards"
      ],
      "execution_count": null,
      "outputs": []
    },
    {
      "cell_type": "code",
      "metadata": {
        "colab": {
          "base_uri": "https://localhost:8080/",
          "height": 81,
          "referenced_widgets": [
            "07bede331f9f46d4a9a0d7923b6675c5",
            "a31f15b3c3604ec9b4675070102889fc",
            "b0930aabe433426189d359f1bc9ae645",
            "d690742fa0884d50ba9359b89a11a1c4",
            "d60f98e8e24349ea93a06df5456cad07",
            "835702ba649e4e41b1e574507cc1648e",
            "1616e6e1ae684c23800ab371aab4ed49",
            "27a8df90be7c497fa7d0b97ee13e0666",
            "f09e0901b36040d89b592445f8b93683",
            "44ff4ec471714160a59d3dfbe35540d2",
            "5c4b9d44cd6048038ca65406e98f94cc",
            "5bfce9fc33e54718840e632c6c118d38",
            "d6cb8bf1aad04902ae92e688e1edb515",
            "8d205f600a3a4af39c46b13daec3abea",
            "7729f29344984a14b89173af8a3b324c",
            "0c90c8d8cbca4a7a93f4047d309f695c",
            "93f7c6a672e34892947a46898df5125c",
            "0d6ae088d1994e5289d4ecff467fa59a",
            "e550528a07a44e3ca4967a4b045833f8",
            "903f3af41e52427a88432160119f6da2",
            "c36303cb1dd248ef856c8f012b843b3c",
            "ccacf5780a5449258cdf093fc57c39e8"
          ]
        },
        "id": "uOBBfqDKK3aZ",
        "outputId": "7d1504b0-7564-45c1-a2f8-bc92fdf1219d"
      },
      "source": [
        "Q_crosses, rewards_q_learning_crosses = run_many_games_Q_learning(e_greedy, verbose = False, crosses = 1)\n",
        "Q_nills, rewards_q_learning_nills = run_many_games_Q_learning(e_greedy, verbose = False, crosses = -1)"
      ],
      "execution_count": null,
      "outputs": [
        {
          "data": {
            "application/vnd.jupyter.widget-view+json": {
              "model_id": "07bede331f9f46d4a9a0d7923b6675c5",
              "version_major": 2,
              "version_minor": 0
            },
            "text/plain": [
              "  0%|          | 0/100000 [00:00<?, ?it/s]"
            ]
          },
          "metadata": {},
          "output_type": "display_data"
        },
        {
          "data": {
            "application/vnd.jupyter.widget-view+json": {
              "model_id": "5bfce9fc33e54718840e632c6c118d38",
              "version_major": 2,
              "version_minor": 0
            },
            "text/plain": [
              "  0%|          | 0/100000 [00:00<?, ?it/s]"
            ]
          },
          "metadata": {},
          "output_type": "display_data"
        }
      ]
    },
    {
      "cell_type": "code",
      "metadata": {
        "colab": {
          "base_uri": "https://localhost:8080/",
          "height": 279
        },
        "id": "6ixdCmlLK3aa",
        "outputId": "fe52841f-c0e6-43ed-c4d4-e1e55d2fbee1"
      },
      "source": [
        "plt.plot(np.array(list(range(1,101)))*1000, rewards_q_learning_crosses, label = 'Q learning CROSSES 3x3 field')\n",
        "plt.plot(np.array(list(range(1,101)))*1000, rewards_q_learning_nills, label = 'Q learning NOUGHTS 3x3 field')\n",
        "plt.xlabel('epoch')\n",
        "plt.ylabel('score')\n",
        "plt.legend();"
      ],
      "execution_count": null,
      "outputs": [
        {
          "data": {
            "image/png": "[encoded data removed]",
            "text/plain": [
              "<Figure size 432x288 with 1 Axes>"
            ]
          },
          "metadata": {},
          "output_type": "display_data"
        }
      ]
    },
    {
      "cell_type": "markdown",
      "metadata": {
        "id": "2T0qjkbRgnCn"
      },
      "source": [
        "# 2. Попробуйте обучить стратегии крестиков и ноликов для доски 4х4 и/или 5х5."
      ]
    },
    {
      "cell_type": "code",
      "metadata": {
        "colab": {
          "base_uri": "https://localhost:8080/",
          "height": 81,
          "referenced_widgets": [
            "a367fc8c4ef145fcb4dfb58a85a57b8d",
            "817b6ff3bbdd4c6ba3f86d72f6bbfe29",
            "02a5966993514f77bc6cd1e1ac816b7b",
            "9fe9c73413b44a418293f3009eeea641",
            "2da2b73cd75d462eb8c2af3518ef3331",
            "2a796cfe7d73445cb3518562fc1e85be",
            "bf359b7fd53a4b82b855c3c21cf2ea05",
            "7618f335a32a47b9a38d82be9fa2a943",
            "397631b8d681409db48c09f24504bd7b",
            "4b71d8560b014efcb56dffc91bf1c2e3",
            "0491f7dc2f4847a699d30389eff56d9d",
            "e3e053bb39d9420ea5d63041b790900e",
            "41790fa8732d406ebff92e43a73d8bfa",
            "1c8b0f93dd464912b1b06a59a3fbb9ee",
            "a0a8e82f521c4ee18964f504ec3007b1",
            "4ad2ced7a4e640e08a8cf410b5931d43",
            "406111a70740400ca1c28a356705dabf",
            "331fb2c36511409583d0ec1a123ce5b7",
            "cb1d7cd7912b46488e4785e7a908f944",
            "b40a7b43914d4de2a8a770ef1388a58b",
            "ae5969834cbf43df8158b3f44f11c992",
            "3311e687b626439d99ea6c2baacb5b2e"
          ]
        },
        "id": "kwK4Mv78K3aa",
        "outputId": "cd72cfab-e13a-4bad-80af-51f8bf05992e"
      },
      "source": [
        "env = TicTacToe(4,4,4)\n",
        "Q_crosses, rewards_q_learning_crosses = run_many_games_Q_learning(e_greedy, env = env, n_games = 100000, verbose = False, crosses = 1)\n",
        "Q_nills, rewards_q_learning_nills = run_many_games_Q_learning(e_greedy, env = env, n_games = 100000, verbose = False, crosses = -1)"
      ],
      "execution_count": null,
      "outputs": [
        {
          "data": {
            "application/vnd.jupyter.widget-view+json": {
              "model_id": "a367fc8c4ef145fcb4dfb58a85a57b8d",
              "version_major": 2,
              "version_minor": 0
            },
            "text/plain": [
              "  0%|          | 0/100000 [00:00<?, ?it/s]"
            ]
          },
          "metadata": {},
          "output_type": "display_data"
        },
        {
          "data": {
            "application/vnd.jupyter.widget-view+json": {
              "model_id": "e3e053bb39d9420ea5d63041b790900e",
              "version_major": 2,
              "version_minor": 0
            },
            "text/plain": [
              "  0%|          | 0/100000 [00:00<?, ?it/s]"
            ]
          },
          "metadata": {},
          "output_type": "display_data"
        }
      ]
    },
    {
      "cell_type": "code",
      "metadata": {
        "colab": {
          "base_uri": "https://localhost:8080/",
          "height": 279
        },
        "id": "64CodWJtK3ab",
        "outputId": "8005180e-e34a-4bf8-f4f6-4f6a2e7785f9"
      },
      "source": [
        "plt.plot(np.array(list(range(1,101)))*1000, rewards_q_learning_crosses, label = 'Q learning CROSSES 4x4 field')\n",
        "plt.plot(np.array(list(range(1,101)))*1000, rewards_q_learning_nills, label = 'Q learning NOUGHTS 4x4 field')\n",
        "plt.xlabel('epoch')\n",
        "plt.ylabel('score')\n",
        "plt.legend();"
      ],
      "execution_count": null,
      "outputs": [
        {
          "data": {
            "image/png": "[encoded data removed]",
            "text/plain": [
              "<Figure size 432x288 with 1 Axes>"
            ]
          },
          "metadata": {},
          "output_type": "display_data"
        }
      ]
    },
    {
      "cell_type": "markdown",
      "metadata": {
        "id": "QNO5As-EK3ad"
      },
      "source": [
        "# Часть вторая: добавим нейронных сетей\n"
      ]
    },
    {
      "cell_type": "markdown",
      "metadata": {
        "id": "voF7ezLLhAAD"
      },
      "source": [
        "## 3. Реализуйте DQN с нейронной сетью, обучите стратегии крестиков и ноликов. "
      ]
    },
    {
      "cell_type": "code",
      "metadata": {
        "id": "da0BrOH8K3ad"
      },
      "source": [
        "Capcity = 10000\n",
        "N_games = 10000\n",
        "n_chanels = 9\n",
        "batch_size = 64\n",
        "device = 'cuda:0' if torch.cuda.is_available() else 'cpu'"
      ],
      "execution_count": null,
      "outputs": []
    },
    {
      "cell_type": "code",
      "metadata": {
        "id": "7wGYD0lVK3ad"
      },
      "source": [
        "Transition = namedtuple('Transition',\n",
        "                        ('state', 'action', 'next_state', 'reward'))\n",
        "\n",
        "class ReplayMemory(object):\n",
        "\n",
        "    def __init__(self, capacity):\n",
        "        self.capacity = capacity\n",
        "        self.memory = []\n",
        "        self.position = 0\n",
        "\n",
        "    def push(self, *args):\n",
        "        \"\"\"Saves a transition.\"\"\"\n",
        "        if len(self.memory) < self.capacity:\n",
        "            self.memory.append(None)\n",
        "        self.memory[self.position] = Transition(*args)\n",
        "        self.position = (self.position + 1) % self.capacity\n",
        "\n",
        "    def sample(self, batch_size):\n",
        "        return random.sample(self.memory, batch_size)\n",
        "\n",
        "    def __len__(self):\n",
        "        return len(self.memory)"
      ],
      "execution_count": null,
      "outputs": []
    },
    {
      "cell_type": "code",
      "metadata": {
        "id": "Yl7Yrs9-K3ae"
      },
      "source": [
        "class DQN(nn.Module):\n",
        "    def __init__(self, field_size):\n",
        "        super(DQN, self).__init__()\n",
        "        self.field_size = field_size\n",
        "        \n",
        "        self.conv = nn.Conv2d(1, self.field_size * self.field_size, kernel_size = self.field_size)\n",
        "        \n",
        "    def forward(self, x):\n",
        "        x = self.conv(x)\n",
        "        return x\n",
        "    \n",
        "class DQN_noughts(nn.Module):\n",
        "    def __init__(self, field_size, n_chanels):\n",
        "        super(DQN_noughts, self).__init__()\n",
        "        self.field_size = field_size\n",
        "        self.n_chanels = n_chanels\n",
        "        \n",
        "        self.conv = nn.Conv2d(1, self.n_chanels, kernel_size = self.field_size)\n",
        "        self.l = nn.Linear(self.n_chanels, self.field_size * self.field_size)\n",
        "    def forward(self, x):\n",
        "        x = F.relu(self.conv(x))\n",
        "        b = x.size()[0]\n",
        "        x = x.view(b, -1)\n",
        "        x = self.l(x)\n",
        "        return x"
      ],
      "execution_count": null,
      "outputs": []
    },
    {
      "cell_type": "code",
      "metadata": {
        "id": "SC6RSrOLK3ae"
      },
      "source": [
        "def e_greedy_dqn(env, dqn, epsilon = 0.01, device = device):\n",
        "    possible_actions = [env.int_from_action(env.getEmptySpaces()[i]) for i in range(len(env.getEmptySpaces()))]\n",
        "    fstate = torch.Tensor(env.board)\n",
        "    actions = dqn(fstate.unsqueeze(0).unsqueeze(0).to(device)).squeeze(0).cpu().detach().numpy()\n",
        "    Q_actions = actions[possible_actions] \n",
        "    if np.random.random() > epsilon:\n",
        "        return possible_actions[np.argmax(Q_actions)]\n",
        "    else:\n",
        "        return np.random.choice(possible_actions)"
      ],
      "execution_count": null,
      "outputs": []
    },
    {
      "cell_type": "code",
      "metadata": {
        "id": "bSPtAzm5K3ae"
      },
      "source": [
        "def dqn_learn(dqn, memory, optimizer, gamma):\n",
        "    batch = memory.sample(batch_size)\n",
        "    \n",
        "    fstate_batch = [el[0] for el in batch]\n",
        "    \n",
        "    actions = np.array([el[1] for el in batch])\n",
        "    \n",
        "    fnext_state_batch = [el[2][0] for el in batch]\n",
        "    isTermanal = [el[2][1] for el in batch]\n",
        "    fnext_actions = [el[2][2] for el in batch]\n",
        "    \n",
        "    reward = np.array([el[3] for el in batch])\n",
        "    \n",
        "    with torch.no_grad():\n",
        "        predictions = dqn(torch.Tensor(fnext_state_batch).unsqueeze(1).to(device)).cpu().detach().numpy()\n",
        "        predicted_target = gamma * np.array(\n",
        "            [np.max(predictions[i][fnext_actions[i]]) if fnext_actions[i] != [] else 0. for i in range(batch_size)])\n",
        "        predicted_target += reward\n",
        "        target = torch.Tensor([reward[i] if isTermanal[i] else predicted_target[i] for i in range(batch_size)])\n",
        "    \n",
        "    predictions = dqn(torch.Tensor(fstate_batch).unsqueeze(1).to(device)).cpu().squeeze()\n",
        "\n",
        "    loss = F.mse_loss(predictions[np.arange(batch_size), actions], target)\n",
        "    \n",
        "    loss.backward()\n",
        "    optimizer.step()\n",
        "    optimizer.zero_grad()\n",
        "    \n",
        "    return loss.item()"
      ],
      "execution_count": null,
      "outputs": []
    },
    {
      "cell_type": "code",
      "metadata": {
        "id": "GggR3EJjK3af"
      },
      "source": [
        "def DQN_train_episode(env, NN, optimizer, memory, gamma = 1., crosses = 1, Capcity = Capcity, device = device, *args, **kwargs):\n",
        "    env.reset()\n",
        "\n",
        "    if env.curTurn != crosses:\n",
        "        possible_actions = [env.int_from_action(env.getEmptySpaces()[i]) for i in range(len(env.getEmptySpaces()))]\n",
        "        opponents_action = np.random.choice(possible_actions)\n",
        "        env.step(env.action_from_int(opponents_action))\n",
        "    loss = 0.\n",
        "    \n",
        "    while True:\n",
        "\n",
        "        fstate = env.board\n",
        "        fstate_actions = [env.int_from_action(env.getEmptySpaces()[i]) for i in range(len(env.getEmptySpaces()))]\n",
        "        \n",
        "        action = e_greedy_dqn(env, NN, *args, **kwargs)\n",
        "\n",
        "        _, reward, done, _ = env.step(env.action_from_int(action))\n",
        "        reward = crosses * reward\n",
        "        \n",
        "        if done:\n",
        "            memory.push(fstate, action, (env.board, done, []), reward)\n",
        "            if len(memory) >= batch_size:\n",
        "                loss += dqn_learn(NN, memory, optimizer, gamma)\n",
        "            return reward, loss\n",
        "\n",
        "        possible_actions = [env.int_from_action(env.getEmptySpaces()[i]) for i in range(len(env.getEmptySpaces()))]\n",
        "        opponents_action = np.random.choice(possible_actions)\n",
        "            \n",
        "        _, reward, done, _ = env.step(env.action_from_int(opponents_action))\n",
        "        reward = crosses * reward\n",
        "        \n",
        "        if done:\n",
        "            memory.push(fstate, action, (env.board, done, []), reward)\n",
        "            if len(memory) >= batch_size:\n",
        "                loss += dqn_learn(NN, memory, optimizer, gamma)\n",
        "            return reward, loss\n",
        "        else:\n",
        "            fnext_actions = [env.int_from_action(env.getEmptySpaces()[i]) for i in range(len(env.getEmptySpaces()))]\n",
        "            memory.push(fstate, action, (env.board, not done, fnext_actions), reward)\n",
        "            if len(memory) >= batch_size:\n",
        "                loss += dqn_learn(NN, memory, optimizer, gamma)"
      ],
      "execution_count": null,
      "outputs": []
    },
    {
      "cell_type": "code",
      "metadata": {
        "id": "0Vz1eUvMK3ag"
      },
      "source": [
        "def DQN_train(env, NN, N_games = N_games, gamma = 1., crosses = 1, Capcity = Capcity, device = device, verbose = True, print_every = 1000,  *args, **kwargs):\n",
        "    memory = ReplayMemory(Capcity)\n",
        "    optimizer = optim.Adam(NN.parameters(), 0.01)\n",
        "    \n",
        "    mean_game_rewards = []\n",
        "    mean_game_loss = []\n",
        "    avg_every = []\n",
        "    loss_every = []\n",
        "    epsilon = 1.\n",
        "    for i in tqdm_notebook(range(N_games)):\n",
        "        if i % 1000 == 999:\n",
        "            epsilon = epsilon - 0.1\n",
        "            epsilon = max(0.01, epsilon)\n",
        "        R, loss = DQN_train_episode(env, NN, optimizer, memory, gamma, crosses, Capcity, device, epsilon= epsilon,*args, **kwargs)\n",
        "        avg_every.append(R)\n",
        "        loss_every.append(loss)\n",
        "        if ((i + 1) % print_every == 0):\n",
        "            if verbose:\n",
        "                print(\"{}/{}\".format(i + 1, N_games) + \" avg rewards: {}\".format(np.mean(avg_every)) + ' avg loss: {}'.format(np.mean(loss_every)))\n",
        "            mean_game_rewards.append(np.mean(avg_every))\n",
        "            mean_game_loss.append(np.mean(loss_every))\n",
        "            avg_every = []\n",
        "            loss_every = []\n",
        "    return NN, mean_game_rewards"
      ],
      "execution_count": null,
      "outputs": []
    },
    {
      "cell_type": "markdown",
      "metadata": {
        "id": "M_CPFeM_K3ag"
      },
      "source": [
        "### 3x3"
      ]
    },
    {
      "cell_type": "code",
      "metadata": {
        "colab": {
          "base_uri": "https://localhost:8080/",
          "height": 278,
          "referenced_widgets": [
            "6f1699c069604cd09a7ee5ac0498a09b",
            "31f37246fe2d4e5bb869391062001078",
            "af8298edbfeb40ccbbe9cedd80572ea8",
            "9076f4ed19d846449e457864a0b0a373",
            "a13227f70c51468f98d7a92da1f01bfc",
            "1e9e07a61a644866a82c91f5db2241b6",
            "fbdaa470480a4092b29b03621c5ddbfd",
            "647e45819e734d20ba81e6f9945523ed",
            "69c172538c7b40f5b0821e5d203b4e4e",
            "b7b7e846e56c4d138b8472f43b77bc16",
            "5054044d475c4e3b959ee607b67537c3"
          ]
        },
        "id": "WI03qcEZK3ag",
        "outputId": "b418bbed-def9-4c21-8308-bacc67db291e"
      },
      "source": [
        "env = TicTacToe(3,3,3)\n",
        "NN_crosses = DQN(env.n_cols).to(device)\n",
        "Q_crosses, crosses_rewards = DQN_train(env, NN_crosses, N_games= 10000, print_every = 1000)"
      ],
      "execution_count": null,
      "outputs": [
        {
          "data": {
            "application/vnd.jupyter.widget-view+json": {
              "model_id": "6f1699c069604cd09a7ee5ac0498a09b",
              "version_major": 2,
              "version_minor": 0
            },
            "text/plain": [
              "  0%|          | 0/10000 [00:00<?, ?it/s]"
            ]
          },
          "metadata": {},
          "output_type": "display_data"
        },
        {
          "name": "stderr",
          "output_type": "stream",
          "text": [
            "/usr/local/lib/python3.7/dist-packages/ipykernel_launcher.py:15: UserWarning: Creating a tensor from a list of numpy.ndarrays is extremely slow. Please consider converting the list to a single numpy.ndarray with numpy.array() before converting to a tensor. (Triggered internally at  ../torch/csrc/utils/tensor_new.cpp:201.)\n",
            "  from ipykernel import kernelapp as app\n"
          ]
        },
        {
          "name": "stdout",
          "output_type": "stream",
          "text": [
            "1000/10000 avg rewards: 0.286 avg loss: 0.6317843969613314\n",
            "2000/10000 avg rewards: 0.346 avg loss: 0.6675814174190163\n",
            "3000/10000 avg rewards: 0.361 avg loss: 0.668526214428246\n",
            "4000/10000 avg rewards: 0.295 avg loss: 0.6559335637688637\n",
            "5000/10000 avg rewards: 0.413 avg loss: 0.6278577561378479\n",
            "6000/10000 avg rewards: 0.469 avg loss: 0.5968002855032682\n",
            "7000/10000 avg rewards: 0.485 avg loss: 0.566501519702375\n",
            "8000/10000 avg rewards: 0.523 avg loss: 0.5271064638905227\n",
            "9000/10000 avg rewards: 0.663 avg loss: 0.5002978764139115\n",
            "10000/10000 avg rewards: 0.756 avg loss: 0.4508933421894908\n"
          ]
        }
      ]
    },
    {
      "cell_type": "code",
      "metadata": {
        "colab": {
          "background_save": true,
          "base_uri": "https://localhost:8080/",
          "height": 188,
          "referenced_widgets": [
            "e18d0955d23843ad8345894a10f65e08",
            "d8bc50df5b784f1193f0e34430a7b8af",
            "0dff6fd7965245698f1049f55138065d",
            "1f80c05a30ea433bbd804f2fefa35a81",
            "60fee17424754944af1ca0b2859a27b0",
            "fd81ce980f96441aacabf2bacaa0efb5",
            "438e6ebd2098462fbe215e9521ef0293",
            "6bfc9bbcde8c4918a14f4ed5a23cd312",
            "bfc212bfc0174e5faf53d0353101fc1a",
            "05ed59fd9b534515a4576b63a373fbaf",
            "531aa2a2a4ab456a83122082f3909c22"
          ]
        },
        "id": "WTXS0347K3ah",
        "outputId": "d6f9ffaa-cb60-4436-b152-36e1ce8c5113"
      },
      "source": [
        "env = TicTacToe(3,3,3)\n",
        "NN_noughts = DQN_noughts(env.n_cols, 64).to(device)\n",
        "Q_noughts, noughts_rewards = DQN_train(env, NN_noughts, crosses = -1, N_games= 10000, print_every = 1000)"
      ],
      "execution_count": null,
      "outputs": [
        {
          "data": {
            "application/vnd.jupyter.widget-view+json": {
              "model_id": "e18d0955d23843ad8345894a10f65e08",
              "version_major": 2,
              "version_minor": 0
            },
            "text/plain": [
              "  0%|          | 0/10000 [00:00<?, ?it/s]"
            ]
          },
          "metadata": {},
          "output_type": "display_data"
        },
        {
          "name": "stdout",
          "output_type": "stream",
          "text": [
            "1000/10000 avg rewards: -0.276 avg loss: 0.3934311094172299\n",
            "2000/10000 avg rewards: -0.258 avg loss: 0.5467859874814749\n",
            "3000/10000 avg rewards: -0.218 avg loss: 0.5706852827742696\n",
            "4000/10000 avg rewards: -0.201 avg loss: 0.5659878387674689\n",
            "5000/10000 avg rewards: -0.207 avg loss: 0.5589847554191947\n",
            "6000/10000 avg rewards: -0.183 avg loss: 0.5409673605635762\n",
            "7000/10000 avg rewards: -0.099 avg loss: 0.5370676891952753\n",
            "8000/10000 avg rewards: -0.101 avg loss: 0.500254148542881\n",
            "9000/10000 avg rewards: 0.108 avg loss: 0.45349879045784475\n",
            "10000/10000 avg rewards: 0.019 avg loss: 0.38577859042957424\n"
          ]
        }
      ]
    },
    {
      "cell_type": "code",
      "metadata": {
        "colab": {
          "background_save": true
        },
        "id": "VxUMdTK7K3ah",
        "outputId": "bf0c4de3-0823-4af7-e5e6-328437d75a29"
      },
      "source": [
        "plt.plot(np.array(list(range(1,11)))*1000, crosses_rewards, label = 'DQN CROSSES 3x3 field')\n",
        "plt.plot(np.array(list(range(1,11)))*1000, noughts_rewards, label = 'DQN NOUGHTS 3x3 field')\n",
        "plt.legend()"
      ],
      "execution_count": null,
      "outputs": [
        {
          "data": {
            "text/plain": [
              "<matplotlib.legend.Legend at 0x7f0f09a87690>"
            ]
          },
          "execution_count": null,
          "metadata": {},
          "output_type": "execute_result"
        },
        {
          "data": {
            "image/png": "[encoded data removed]",
            "text/plain": [
              "<Figure size 432x288 with 1 Axes>"
            ]
          },
          "metadata": {},
          "output_type": "display_data"
        }
      ]
    },
    {
      "cell_type": "markdown",
      "metadata": {
        "id": "mC1NViMuK3ah"
      },
      "source": [
        "### 4x4"
      ]
    },
    {
      "cell_type": "code",
      "metadata": {
        "colab": {
          "background_save": true,
          "referenced_widgets": [
            "f7ef805272ae4510b2f8ccc6af1e3762"
          ]
        },
        "id": "jokmzka0K3ai",
        "outputId": "7f140ce0-5c65-4eb0-bdae-ffaac387625b"
      },
      "source": [
        "env = TicTacToe(4,4,4)\n",
        "NN_crosses = DQN(env.n_cols).to(device)\n",
        "Q_crosses, crosses_rewards = DQN_train(env, NN_crosses, N_games= 10000, print_every = 1000)"
      ],
      "execution_count": null,
      "outputs": [
        {
          "data": {
            "application/vnd.jupyter.widget-view+json": {
              "model_id": "f7ef805272ae4510b2f8ccc6af1e3762",
              "version_major": 2,
              "version_minor": 0
            },
            "text/plain": [
              "  0%|          | 0/10000 [00:00<?, ?it/s]"
            ]
          },
          "metadata": {},
          "output_type": "display_data"
        },
        {
          "name": "stdout",
          "output_type": "stream",
          "text": [
            "1000/10000 avg rewards: 0.047 avg loss: 0.5592663183705882\n",
            "2000/10000 avg rewards: 0.042 avg loss: 0.597163393503055\n",
            "3000/10000 avg rewards: 0.092 avg loss: 0.583614156216383\n",
            "4000/10000 avg rewards: 0.057 avg loss: 0.5898515648860484\n",
            "5000/10000 avg rewards: 0.139 avg loss: 0.5854194870190695\n",
            "6000/10000 avg rewards: 0.156 avg loss: 0.5879119742391631\n",
            "7000/10000 avg rewards: 0.203 avg loss: 0.5721562898587436\n",
            "8000/10000 avg rewards: 0.282 avg loss: 0.5805408842749894\n",
            "9000/10000 avg rewards: 0.377 avg loss: 0.5705125480219722\n",
            "10000/10000 avg rewards: 0.459 avg loss: 0.5806815658472478\n"
          ]
        }
      ]
    },
    {
      "cell_type": "code",
      "metadata": {
        "colab": {
          "background_save": true,
          "referenced_widgets": [
            "4e39f23fa25543169f6cbf58d7cd680f"
          ]
        },
        "id": "IJQUuK4YK3ai",
        "outputId": "8df7b389-40c3-4154-9b5a-51b4d30a6f7c"
      },
      "source": [
        "env = TicTacToe(4,4,4)\n",
        "NN_noughts = DQN_noughts(env.n_cols, 128).to(device)\n",
        "Q_noughts, noughts_rewards = DQN_train(env, NN_noughts, crosses = -1, N_games= 10000, print_every = 1000)"
      ],
      "execution_count": null,
      "outputs": [
        {
          "data": {
            "application/vnd.jupyter.widget-view+json": {
              "model_id": "4e39f23fa25543169f6cbf58d7cd680f",
              "version_major": 2,
              "version_minor": 0
            },
            "text/plain": [
              "  0%|          | 0/10000 [00:00<?, ?it/s]"
            ]
          },
          "metadata": {},
          "output_type": "display_data"
        },
        {
          "name": "stdout",
          "output_type": "stream",
          "text": [
            "1000/10000 avg rewards: -0.024 avg loss: 0.22625820476707303\n",
            "2000/10000 avg rewards: -0.063 avg loss: 0.4529950941062998\n",
            "3000/10000 avg rewards: 0.027 avg loss: 0.47615025624562984\n",
            "4000/10000 avg rewards: 0.08 avg loss: 0.4719880168649834\n",
            "5000/10000 avg rewards: 0.084 avg loss: 0.504997004095465\n",
            "6000/10000 avg rewards: 0.112 avg loss: 0.5296239451989532\n",
            "7000/10000 avg rewards: 0.171 avg loss: 0.5424643273726105\n",
            "8000/10000 avg rewards: 0.275 avg loss: 0.5492539221271873\n",
            "9000/10000 avg rewards: 0.306 avg loss: 0.5651385610643774\n",
            "10000/10000 avg rewards: 0.321 avg loss: 0.5487641058573499\n"
          ]
        }
      ]
    },
    {
      "cell_type": "code",
      "metadata": {
        "colab": {
          "background_save": true
        },
        "id": "Ds671cHPK3ai",
        "outputId": "48138be3-b8a9-454c-8f88-5834dcfde9ed"
      },
      "source": [
        "plt.plot(np.array(list(range(1,11)))*1000, crosses_rewards, label = 'DQN CROSSES 4x4 field')\n",
        "plt.plot(np.array(list(range(1,11)))*1000, noughts_rewards, label = 'DQN NOUGHTS 4x4 field')\n",
        "plt.legend()"
      ],
      "execution_count": null,
      "outputs": [
        {
          "data": {
            "text/plain": [
              "<matplotlib.legend.Legend at 0x7f0f0a9422d0>"
            ]
          },
          "execution_count": null,
          "metadata": {},
          "output_type": "execute_result"
        },
        {
          "data": {
            "image/png": "[encoded data removed]",
            "text/plain": [
              "<Figure size 432x288 with 1 Axes>"
            ]
          },
          "metadata": {},
          "output_type": "display_data"
        }
      ]
    },
    {
      "cell_type": "markdown",
      "metadata": {
        "id": "Rgix4OrZK3aj"
      },
      "source": [
        "## 4. Реализуйте Double DQN и/или Dueling DQN."
      ]
    },
    {
      "cell_type": "code",
      "metadata": {
        "colab": {
          "background_save": true
        },
        "id": "oLVoDZ38K3ak"
      },
      "source": [
        "class DuelingDQN(nn.Module):\n",
        "    def __init__(self, field_size, n_chanels):\n",
        "        super(DuelingDQN, self).__init__()\n",
        "        self.field_size = field_size\n",
        "        self.n_chanels = n_chanels\n",
        "        \n",
        "        self.conv = nn.Conv2d(1, self.n_chanels, kernel_size = self.field_size)\n",
        "        self.l = nn.Linear(self.n_chanels, self.field_size * self.field_size)\n",
        "        self.l2 = nn.Linear(self.n_chanels, 1)\n",
        "    def forward(self, x):\n",
        "        x = torch.tanh(self.conv(x))\n",
        "        b = x.size()[0]\n",
        "        x = x.view(b, -1)\n",
        "        \n",
        "        z = self.l(x)\n",
        "        y = self.l2(x)\n",
        "        ma =  torch.mean(z, dim=1, keepdim=True)\n",
        "        #https://towardsdatascience.com/dueling-deep-q-networks-81ffab672751\n",
        "        return z + y - ma"
      ],
      "execution_count": null,
      "outputs": []
    },
    {
      "cell_type": "code",
      "metadata": {
        "colab": {
          "background_save": true,
          "referenced_widgets": [
            "1e0cfd831b764b21b2ed5f6169deadfb"
          ]
        },
        "id": "F18awuB5K3ak",
        "outputId": "6a8544f7-8ebf-4534-c812-70e53f0fffdf"
      },
      "source": [
        "env = TicTacToe(3,3,3)\n",
        "NN_crosses = DuelingDQN(env.n_cols, 32).to(device)\n",
        "Q_crosses, crosses_rewards = DQN_train(env, NN_crosses, N_games= 10000, print_every = 1000)"
      ],
      "execution_count": null,
      "outputs": [
        {
          "data": {
            "application/vnd.jupyter.widget-view+json": {
              "model_id": "1e0cfd831b764b21b2ed5f6169deadfb",
              "version_major": 2,
              "version_minor": 0
            },
            "text/plain": [
              "  0%|          | 0/10000 [00:00<?, ?it/s]"
            ]
          },
          "metadata": {},
          "output_type": "display_data"
        },
        {
          "name": "stdout",
          "output_type": "stream",
          "text": [
            "1000/10000 avg rewards: 0.295 avg loss: 0.5341331740710884\n",
            "2000/10000 avg rewards: 0.283 avg loss: 0.6262141818106175\n",
            "3000/10000 avg rewards: 0.394 avg loss: 0.6601021127551794\n",
            "4000/10000 avg rewards: 0.374 avg loss: 0.6531158558726311\n",
            "5000/10000 avg rewards: 0.404 avg loss: 0.6336426898762584\n",
            "6000/10000 avg rewards: 0.432 avg loss: 0.6214137168303132\n",
            "7000/10000 avg rewards: 0.365 avg loss: 0.6173937738239765\n",
            "8000/10000 avg rewards: 0.332 avg loss: 0.6092796445190907\n",
            "9000/10000 avg rewards: 0.387 avg loss: 0.5861480666622519\n",
            "10000/10000 avg rewards: 0.519 avg loss: 0.5735171833038331\n"
          ]
        }
      ]
    },
    {
      "cell_type": "code",
      "metadata": {
        "colab": {
          "background_save": true,
          "referenced_widgets": [
            "f28f21277d9f48d484b402e06a3619c6"
          ]
        },
        "id": "5M0bV8n1K3ak",
        "outputId": "82cc8b5e-b91b-46c6-bc22-6696e8231974"
      },
      "source": [
        "env = TicTacToe(3,3,3)\n",
        "NN_noughts = DuelingDQN(env.n_cols, 32).to(device)\n",
        "Q_noughts, noughts_rewards = DQN_train(env, NN_noughts, N_games= 10000, crosses = -1, print_every = 1000)"
      ],
      "execution_count": null,
      "outputs": [
        {
          "data": {
            "application/vnd.jupyter.widget-view+json": {
              "model_id": "f28f21277d9f48d484b402e06a3619c6",
              "version_major": 2,
              "version_minor": 0
            },
            "text/plain": [
              "  0%|          | 0/10000 [00:00<?, ?it/s]"
            ]
          },
          "metadata": {},
          "output_type": "display_data"
        },
        {
          "name": "stdout",
          "output_type": "stream",
          "text": [
            "1000/10000 avg rewards: -0.25 avg loss: 0.4712136089652777\n",
            "2000/10000 avg rewards: -0.305 avg loss: 0.5975768149122596\n",
            "3000/10000 avg rewards: -0.29 avg loss: 0.6309390882179141\n",
            "4000/10000 avg rewards: -0.284 avg loss: 0.6431455792859196\n",
            "5000/10000 avg rewards: -0.204 avg loss: 0.6461975047066808\n",
            "6000/10000 avg rewards: -0.098 avg loss: 0.6219959545210004\n",
            "7000/10000 avg rewards: 0.035 avg loss: 0.6154583424627781\n",
            "8000/10000 avg rewards: 0.025 avg loss: 0.5960957504287362\n",
            "9000/10000 avg rewards: -0.073 avg loss: 0.5989221882447601\n",
            "10000/10000 avg rewards: -0.285 avg loss: 0.6186135409101844\n"
          ]
        }
      ]
    },
    {
      "cell_type": "code",
      "metadata": {
        "colab": {
          "background_save": true
        },
        "id": "rt_7dspMK3ak",
        "outputId": "1122fe57-fab1-4fd1-fcdd-563acc982471"
      },
      "source": [
        "plt.plot(np.array(list(range(1,11)))*1000, crosses_rewards, label = 'Dueling DQN CROSSES 3x3 field')\n",
        "plt.plot(np.array(list(range(1,11)))*1000, noughts_rewards, label = 'Dueling DQN NOUGHTS 3x3 field')\n",
        "plt.legend()"
      ],
      "execution_count": null,
      "outputs": [
        {
          "data": {
            "text/plain": [
              "<matplotlib.legend.Legend at 0x7f0f08ef2e10>"
            ]
          },
          "execution_count": null,
          "metadata": {},
          "output_type": "execute_result"
        },
        {
          "data": {
            "image/png": "[encoded data removed]",
            "text/plain": [
              "<Figure size 432x288 with 1 Axes>"
            ]
          },
          "metadata": {},
          "output_type": "display_data"
        }
      ]
    },
    {
      "cell_type": "code",
      "metadata": {
        "colab": {
          "background_save": true,
          "referenced_widgets": [
            "352b3471bb9d45f389eebd465b557344"
          ]
        },
        "id": "5sAqFb_xK3ak",
        "outputId": "0ddb6b73-8f72-4a8d-a4da-08f4f6bc1419"
      },
      "source": [
        "env = TicTacToe(4,4,4)\n",
        "NN_crosses = DuelingDQN(env.n_cols, 32).to(device)\n",
        "Q_crosses, crosses_rewards = DQN_train(env, NN_crosses, N_games= 10000, print_every = 1000)"
      ],
      "execution_count": null,
      "outputs": [
        {
          "data": {
            "application/vnd.jupyter.widget-view+json": {
              "model_id": "352b3471bb9d45f389eebd465b557344",
              "version_major": 2,
              "version_minor": 0
            },
            "text/plain": [
              "  0%|          | 0/10000 [00:00<?, ?it/s]"
            ]
          },
          "metadata": {},
          "output_type": "display_data"
        },
        {
          "name": "stdout",
          "output_type": "stream",
          "text": [
            "1000/10000 avg rewards: 0.01 avg loss: 0.4509780177301727\n",
            "2000/10000 avg rewards: 0.039 avg loss: 0.5638001253306866\n",
            "3000/10000 avg rewards: 0.09 avg loss: 0.5703347560111434\n",
            "4000/10000 avg rewards: 0.07 avg loss: 0.5813182934187353\n",
            "5000/10000 avg rewards: 0.105 avg loss: 0.5915912211230024\n",
            "6000/10000 avg rewards: 0.192 avg loss: 0.6314275752417743\n",
            "7000/10000 avg rewards: 0.116 avg loss: 0.6488531970325857\n",
            "8000/10000 avg rewards: 0.103 avg loss: 0.6014384109685198\n",
            "9000/10000 avg rewards: 0.17 avg loss: 0.60438836243283\n",
            "10000/10000 avg rewards: 0.245 avg loss: 0.6391910264156759\n"
          ]
        }
      ]
    },
    {
      "cell_type": "code",
      "metadata": {
        "colab": {
          "background_save": true,
          "referenced_widgets": [
            "ea2bcff6f22a4e1499dc6f9ba6e53d47"
          ]
        },
        "id": "x3MVJEanK3al",
        "outputId": "6e804a21-2680-4d8d-8a61-e0ae2d71b181"
      },
      "source": [
        "env = TicTacToe(4,4,4)\n",
        "NN_noughts = DuelingDQN(env.n_cols, 32).to(device)\n",
        "Q_noughts, noughts_rewards = DQN_train(env, NN_noughts, N_games= 10000, crosses = -1, print_every = 1000)"
      ],
      "execution_count": null,
      "outputs": [
        {
          "data": {
            "application/vnd.jupyter.widget-view+json": {
              "model_id": "ea2bcff6f22a4e1499dc6f9ba6e53d47",
              "version_major": 2,
              "version_minor": 0
            },
            "text/plain": [
              "  0%|          | 0/10000 [00:00<?, ?it/s]"
            ]
          },
          "metadata": {},
          "output_type": "display_data"
        },
        {
          "name": "stdout",
          "output_type": "stream",
          "text": [
            "1000/10000 avg rewards: -0.036 avg loss: 0.4393658609138802\n",
            "2000/10000 avg rewards: -0.014 avg loss: 0.573680797321722\n",
            "3000/10000 avg rewards: 0.0 avg loss: 0.5728004072755575\n",
            "4000/10000 avg rewards: -0.056 avg loss: 0.5871637543132529\n",
            "5000/10000 avg rewards: 0.042 avg loss: 0.587151179080829\n",
            "6000/10000 avg rewards: 0.019 avg loss: 0.5688879608307034\n",
            "7000/10000 avg rewards: 0.046 avg loss: 0.5261047277422621\n",
            "8000/10000 avg rewards: 0.096 avg loss: 0.5232692644512281\n",
            "9000/10000 avg rewards: 0.068 avg loss: 0.5562453293893487\n",
            "10000/10000 avg rewards: 0.101 avg loss: 0.5446584154516458\n"
          ]
        }
      ]
    },
    {
      "cell_type": "code",
      "metadata": {
        "colab": {
          "background_save": true
        },
        "id": "SJ0OUxXSK3al",
        "outputId": "f708b5dc-e677-4065-9716-7d2f542fbcff"
      },
      "source": [
        "plt.plot(np.array(list(range(1,11)))*1000, crosses_rewards, label = 'Dueling DQN CROSSES 4x4 field')\n",
        "plt.plot(np.array(list(range(1,11)))*1000, noughts_rewards, label = 'Dueling DQN NOUGHTS 4x4 field')\n",
        "plt.legend()"
      ],
      "execution_count": null,
      "outputs": [
        {
          "data": {
            "text/plain": [
              "<matplotlib.legend.Legend at 0x7f0f08e31dd0>"
            ]
          },
          "execution_count": null,
          "metadata": {},
          "output_type": "execute_result"
        },
        {
          "data": {
            "image/png": "[encoded data removed]",
            "text/plain": [
              "<Figure size 432x288 with 1 Axes>"
            ]
          },
          "metadata": {},
          "output_type": "display_data"
        }
      ]
    },
    {
      "cell_type": "markdown",
      "metadata": {
        "id": "xAA-delvK3am"
      },
      "source": [
        "# Часть третья: расширим и углубим поиск"
      ]
    },
    {
      "cell_type": "markdown",
      "metadata": {
        "id": "7Fd0EzWHK3am"
      },
      "source": [
        "## 5. Реализуйте rollouts со случайной стратегией и (опционально) rollouts с неслучайной, но простой стратегией (например, основанной на дополнении нескольких паттернов или на Q-функции, которая у вас получилась в первом пункте). "
      ]
    },
    {
      "cell_type": "code",
      "metadata": {
        "colab": {
          "background_save": true
        },
        "id": "Qp8Ot_sDK3am"
      },
      "source": [
        "def rollout(env, strategy, nrolls, crosses, *args, **kwargs):\n",
        "    possible_actions = [env.int_from_action(env.getEmptySpaces()[i]) for i in range(len(env.getEmptySpaces()))]\n",
        "    rewards = {el: [] for el in possible_actions}\n",
        "    for i in range(nrolls):\n",
        "        for act in possible_actions:\n",
        "            cur_env = deepcopy(env)\n",
        "            _, reward, done, _ = cur_env.step(cur_env.action_from_int(act))\n",
        "            if done:\n",
        "                rewards[act].append(reward * crosses)\n",
        "                continue\n",
        "                \n",
        "            while True:\n",
        "                p_actions = [cur_env.int_from_action(cur_env.getEmptySpaces()[i]) for i in range(len(cur_env.getEmptySpaces()))]\n",
        "                opponents_action = np.random.choice(p_actions)\n",
        "                _, reward, done, _ = cur_env.step(cur_env.action_from_int(opponents_action))\n",
        "                if done:\n",
        "                    rewards[act].append(reward * crosses)\n",
        "                    break\n",
        "                \n",
        "                p_actions = [cur_env.int_from_action(cur_env.getEmptySpaces()[i]) for i in range(len(cur_env.getEmptySpaces()))]\n",
        "                our_action = strategy(cur_env, *args, **kwargs)\n",
        "                \n",
        "                _, reward, done, _ = cur_env.step(cur_env.action_from_int(our_action))\n",
        "                if done:\n",
        "                    rewards[act].append(reward * crosses)\n",
        "                    break\n",
        "                    \n",
        "    actions = {el: np.mean(rewards[el]) for el in possible_actions}\n",
        "    maxi = -10\n",
        "    max_act = 0\n",
        "    for act in actions.keys():\n",
        "        if actions[act] > maxi:\n",
        "            max_act = act\n",
        "            maxi = actions[act]\n",
        "    return max_act, actions"
      ],
      "execution_count": null,
      "outputs": []
    },
    {
      "cell_type": "code",
      "metadata": {
        "colab": {
          "background_save": true
        },
        "id": "JBOyS_laK3am"
      },
      "source": [
        "def rollout_game(env, strategy, nrolls = 100, crosses = 1, *args, **kwargs):\n",
        "    if crosses != env.curTurn:\n",
        "        possible_actions = [env.int_from_action(env.getEmptySpaces()[i]) for i in range(len(env.getEmptySpaces()))]\n",
        "        opponents_action = np.random.choice(possible_actions)\n",
        "        env.step(env.action_from_int(opponents_action))\n",
        "    \n",
        "    while True:\n",
        "        p_actions = [env.int_from_action(env.getEmptySpaces()[i]) for i in range(len(env.getEmptySpaces()))]\n",
        "        our_action, _ = rollout(env, strategy, nrolls, crosses, *args, **kwargs)\n",
        "                \n",
        "        _, reward, done, _ = env.step(env.action_from_int(our_action))\n",
        "        \n",
        "        if done:\n",
        "            return reward * crosses\n",
        "        \n",
        "        p_actions = [env.int_from_action(env.getEmptySpaces()[i]) for i in range(len(env.getEmptySpaces()))]\n",
        "        opponents_action = np.random.choice(p_actions)\n",
        "        \n",
        "        _, reward, done, _ = env.step(env.action_from_int(opponents_action))\n",
        "        \n",
        "        if done:\n",
        "            return reward * crosses"
      ],
      "execution_count": null,
      "outputs": []
    },
    {
      "cell_type": "code",
      "metadata": {
        "colab": {
          "background_save": true
        },
        "id": "HCntxn2NK3am"
      },
      "source": [
        "def random_str(env):\n",
        "    possible_actions = [env.int_from_action(env.getEmptySpaces()[i]) for i in range(len(env.getEmptySpaces()))]\n",
        "    return possible_actions[np.random.choice(len(possible_actions))]"
      ],
      "execution_count": null,
      "outputs": []
    },
    {
      "cell_type": "code",
      "metadata": {
        "colab": {
          "background_save": true
        },
        "id": "o0AhB9f_K3am",
        "scrolled": true
      },
      "source": [
        "env = TicTacToe(3,3,3)\n",
        "env.reset()"
      ],
      "execution_count": null,
      "outputs": []
    },
    {
      "cell_type": "code",
      "metadata": {
        "colab": {
          "background_save": true,
          "referenced_widgets": [
            "987cb7866a2149ea80cfb580f212bfe0"
          ]
        },
        "id": "BEmh1YmGK3an",
        "outputId": "adcf5e2c-435f-4061-e820-9bb36fef160d"
      },
      "source": [
        "rewards = []\n",
        "for i in tqdm_notebook(range(100)):\n",
        "    env.reset()\n",
        "    rewards.append(rollout_game(env, random_str, nrolls = 100))\n",
        "    \n",
        "print(np.mean(rewards))"
      ],
      "execution_count": null,
      "outputs": [
        {
          "data": {
            "application/vnd.jupyter.widget-view+json": {
              "model_id": "987cb7866a2149ea80cfb580f212bfe0",
              "version_major": 2,
              "version_minor": 0
            },
            "text/plain": [
              "  0%|          | 0/100 [00:00<?, ?it/s]"
            ]
          },
          "metadata": {},
          "output_type": "display_data"
        },
        {
          "name": "stdout",
          "output_type": "stream",
          "text": [
            "0.97\n"
          ]
        }
      ]
    },
    {
      "cell_type": "code",
      "metadata": {
        "colab": {
          "background_save": true,
          "referenced_widgets": [
            "355ad08f09eb4994a5d062de071761d2"
          ]
        },
        "id": "ZTZHC0IbK3an",
        "outputId": "69f68f0d-4a53-4acc-8d17-2b4f6f4b1730"
      },
      "source": [
        "rewards = []\n",
        "for i in tqdm_notebook(range(100)):\n",
        "    env.reset()\n",
        "    rewards.append(rollout_game(env, random_str, nrolls = 100, crosses = -1))\n",
        "    \n",
        "print(np.mean(rewards))"
      ],
      "execution_count": null,
      "outputs": [
        {
          "data": {
            "application/vnd.jupyter.widget-view+json": {
              "model_id": "355ad08f09eb4994a5d062de071761d2",
              "version_major": 2,
              "version_minor": 0
            },
            "text/plain": [
              "  0%|          | 0/100 [00:00<?, ?it/s]"
            ]
          },
          "metadata": {},
          "output_type": "display_data"
        },
        {
          "name": "stdout",
          "output_type": "stream",
          "text": [
            "0.87\n"
          ]
        }
      ]
    },
    {
      "cell_type": "code",
      "metadata": {
        "colab": {
          "background_save": true
        },
        "id": "XHHJO-hDK3an"
      },
      "source": [
        "env = TicTacToe(4,4,4)\n",
        "env.reset()"
      ],
      "execution_count": null,
      "outputs": []
    },
    {
      "cell_type": "code",
      "metadata": {
        "colab": {
          "background_save": true,
          "referenced_widgets": [
            "50c6fc4f91e94e1eb1498b8f59ad3968"
          ]
        },
        "id": "Zb0HQmCsK3an",
        "outputId": "0bf4f1ab-cf60-4a91-d4c6-c563bae55e2d"
      },
      "source": [
        "rewards = []\n",
        "for i in tqdm_notebook(range(20)):\n",
        "    env.reset()\n",
        "    rewards.append(rollout_game(env, random_str, nrolls = 20))\n",
        "    \n",
        "print(np.mean(rewards))"
      ],
      "execution_count": null,
      "outputs": [
        {
          "data": {
            "application/vnd.jupyter.widget-view+json": {
              "model_id": "50c6fc4f91e94e1eb1498b8f59ad3968",
              "version_major": 2,
              "version_minor": 0
            },
            "text/plain": [
              "  0%|          | 0/20 [00:00<?, ?it/s]"
            ]
          },
          "metadata": {},
          "output_type": "display_data"
        },
        {
          "name": "stdout",
          "output_type": "stream",
          "text": [
            "1.0\n"
          ]
        }
      ]
    },
    {
      "cell_type": "code",
      "metadata": {
        "colab": {
          "background_save": true,
          "referenced_widgets": [
            "fb8870ceb41849f2a9c278f350abe559"
          ]
        },
        "id": "o_ZX63i1K3an",
        "outputId": "f5ae8009-82bc-461c-b6ad-fd8477a54e5c"
      },
      "source": [
        "rewards = []\n",
        "for i in tqdm_notebook(range(20)):\n",
        "    env.reset()\n",
        "    rewards.append(rollout_game(env, random_str, nrolls = 20, crosses = -1))\n",
        "    \n",
        "print(np.mean(rewards))"
      ],
      "execution_count": null,
      "outputs": [
        {
          "data": {
            "application/vnd.jupyter.widget-view+json": {
              "model_id": "fb8870ceb41849f2a9c278f350abe559",
              "version_major": 2,
              "version_minor": 0
            },
            "text/plain": [
              "  0%|          | 0/20 [00:00<?, ?it/s]"
            ]
          },
          "metadata": {},
          "output_type": "display_data"
        },
        {
          "name": "stdout",
          "output_type": "stream",
          "text": [
            "0.8\n"
          ]
        }
      ]
    },
    {
      "cell_type": "markdown",
      "metadata": {
        "id": "dLkx-NAwK3ao"
      },
      "source": [
        "## 6. Реализуйте MCTS-поиск с этими rollouts для крестиков-ноликов на досках разного размера, сравните полученные стратегии между собой и со стратегиями, обученными в первых двух частях."
      ]
    },
    {
      "cell_type": "code",
      "metadata": {
        "colab": {
          "background_save": true
        },
        "id": "mI9hQJ3cK3ao"
      },
      "source": [
        "def replace(s, position, character):\n",
        "    return s[:position] + character + s[position+1:]"
      ],
      "execution_count": null,
      "outputs": []
    },
    {
      "cell_type": "code",
      "metadata": {
        "colab": {
          "background_save": true
        },
        "id": "m-IVsiGeK3ao"
      },
      "source": [
        "C = 0.8\n",
        "\n",
        "class Node():\n",
        "    def __init__(self):\n",
        "        self.parent = None\n",
        "        self.children = {}\n",
        "        self.visits = 0\n",
        "        self.value = 0\n",
        "        self.state = None\n",
        "        self.index = 0\n",
        "        self.storage = None\n",
        "    \n",
        "    def ucb(self):\n",
        "        if self.visits == 0:\n",
        "            return float('inf')\n",
        "        return self.value / self.visits + C * math.sqrt(math.log(self.storage[self.parent].visits) / self.visits)\n",
        "    \n",
        "    def create_children(self):\n",
        "        if self.is_leaf():\n",
        "            np_state = np.array(list(map(int, self.state)))\n",
        "            available_actions = np.where(np_state == 1)[0]\n",
        "            if (len(self.state) - len(available_actions)) % 2 == 0:\n",
        "                curTurn = 1\n",
        "            else:\n",
        "                curTurn = -1\n",
        "            for action in available_actions:\n",
        "                child = Node()\n",
        "                child.parent = self.index\n",
        "                child.state = replace(self.state, action, str(curTurn + 1))\n",
        "                child.index = len(self.storage)\n",
        "                child.storage = self.storage\n",
        "                self.children[action] = child.index\n",
        "                self.storage.append(child)\n",
        "    \n",
        "    def is_leaf(self):\n",
        "        return len(self.children) == 0\n",
        "    \n",
        "    def select_child(self, how=\"best\"):\n",
        "        eps = 0.7\n",
        "        if how == \"best\":\n",
        "            fun = max\n",
        "            characteristic = lambda x: self.storage[x[1]].ucb()\n",
        "        elif how == \"worse\":\n",
        "            fun = min\n",
        "            characteristic = lambda x: self.storage[x[1]].ucb()\n",
        "        elif how == \"random\":\n",
        "            return random.choice(list(self.children.items()))\n",
        "        else:\n",
        "            fun = None\n",
        "            characteristic = None\n",
        "        if not self.is_leaf():\n",
        "            return max(self.children.items(), key=characteristic)"
      ],
      "execution_count": null,
      "outputs": []
    },
    {
      "cell_type": "code",
      "metadata": {
        "colab": {
          "background_save": true
        },
        "id": "vUHRkXa0K3ao"
      },
      "source": [
        " def rollout(env, strategy, nrolls, crosses, *args, **kwargs):\n",
        "    possible_actions = [env.int_from_action(env.getEmptySpaces()[i]) for i in range(len(env.getEmptySpaces()))]\n",
        "    cur_env= deepcopy(env)\n",
        "    done = env.gameOver\n",
        "    if done:\n",
        "        return 0 \n",
        "    \n",
        "    while True:\n",
        "        p_actions = [cur_env.int_from_action(cur_env.getEmptySpaces()[i]) for i in range(len(cur_env.getEmptySpaces()))]\n",
        "        our_action = strategy(cur_env, *args, **kwargs)\n",
        "                \n",
        "        _, reward, done, _ = cur_env.step(cur_env.action_from_int(our_action))\n",
        "        if done:\n",
        "            return reward * crosses\n",
        "        \n",
        "        p_actions = [cur_env.int_from_action(cur_env.getEmptySpaces()[i]) for i in range(len(cur_env.getEmptySpaces()))]\n",
        "        opponents_action = np.random.choice(p_actions)\n",
        "        _, reward, done, _ = cur_env.step(cur_env.action_from_int(opponents_action))\n",
        "        if done:\n",
        "            return reward * crosses\n",
        "                "
      ],
      "execution_count": null,
      "outputs": []
    },
    {
      "cell_type": "code",
      "metadata": {
        "colab": {
          "background_save": true
        },
        "id": "aG4PjlHCK3ap"
      },
      "source": [
        "class Mcts():\n",
        "    def __init__(self, env, crosses = 1):\n",
        "        self.env = env\n",
        "        self.env.reset()\n",
        "        self.crosses = crosses\n",
        "        self.nodes = []\n",
        "\n",
        "        root = Node()\n",
        "        root.state = self.env.getState()[0]\n",
        "        root.index = 0\n",
        "        root.storage = self.nodes\n",
        "        self.nodes.append(root)\n",
        "        \n",
        "        self.current_node = 0\n",
        "        \n",
        "    def next_step(self):\n",
        "        action, self.current_node = self.nodes[self.current_node].select_child()\n",
        "        self.env.step(self.env.action_from_int(action))\n",
        "    \n",
        "    def selection(self):\n",
        "        while not self.nodes[self.current_node].is_leaf():\n",
        "            self.next_step()\n",
        "    \n",
        "    def expansion(self):\n",
        "        if not self.env.gameOver:\n",
        "            if self.nodes[self.current_node].visits > 0:\n",
        "                self.nodes[self.current_node].create_children()\n",
        "                self.next_step()\n",
        "    \n",
        "    def simulation(self):\n",
        "        return rollout(self.env, random_str, 1, self.crosses)\n",
        "    \n",
        "    def backpropagation(self, r):\n",
        "        while self.nodes[self.current_node].parent is not None:\n",
        "            self.nodes[self.current_node].visits += 1\n",
        "            self.nodes[self.current_node].value += r\n",
        "            self.current_node = self.nodes[self.current_node].parent\n",
        "        self.nodes[self.current_node].visits += 1\n",
        "        self.nodes[self.current_node].value += r\n",
        "    \n",
        "    def learn(self, n_episodes=10000):\n",
        "        for _ in tqdm_notebook(range(n_episodes)):\n",
        "            assert self.current_node == 0\n",
        "            self.env.reset()\n",
        "            self.selection()\n",
        "            self.expansion()\n",
        "            r = self.simulation()\n",
        "            self.backpropagation(r)"
      ],
      "execution_count": null,
      "outputs": []
    },
    {
      "cell_type": "code",
      "metadata": {
        "colab": {
          "background_save": true
        },
        "id": "n-l_3rn7K3ap"
      },
      "source": [
        "def run(model, n_episodes = 12, crosses = 1):\n",
        "    cum_rewards = 0\n",
        "    count_games = 0\n",
        "    for _ in range(n_episodes):\n",
        "        model.env.reset()\n",
        "        model.current_node = 0\n",
        "        if crosses == 1:\n",
        "            hows = [None, \"best\", \"random\"]\n",
        "        elif crosses == -1:\n",
        "            hows = [None, \"random\", \"worse\"]\n",
        "        else:\n",
        "            hows = None\n",
        "        while not model.nodes[model.current_node].is_leaf():\n",
        "            action, model.current_node = model.nodes[model.current_node].select_child(hows[model.env.curTurn])\n",
        "            _, reward, done, _ = model.env.step(model.env.action_from_int(action))\n",
        "        if done:\n",
        "            cum_rewards += reward\n",
        "            count_games += 1\n",
        "    mean_reward = cum_rewards / count_games\n",
        "    print(f\"Mean reward vs random policy equal {mean_reward} after {count_games} games.\")\n",
        "    return mean_reward"
      ],
      "execution_count": null,
      "outputs": []
    },
    {
      "cell_type": "code",
      "metadata": {
        "colab": {
          "base_uri": "https://localhost:8080/",
          "height": 84,
          "referenced_widgets": [
            "b66c8d25ed014f09a331a6ae009ae163",
            "6792f5e2fceb41149e3f1647ae3e8fc5",
            "b9e37a7dbf234df196aa64446c280a0f",
            "dc9f7d7c63de4215aaf3985cb1162e3a",
            "d4bb9e37507b40f78c578fd4ad5d8980",
            "44ca0c402cef4309af4bf12286f8ba89",
            "3ffcbbb39d68471b91b4e432d4a616f1",
            "3691dbb6fb4a472f87e1ee9fb2e300df",
            "c00ae0aa835e438b90e549380f1f5983",
            "e63c013a9bec489abb3b1b3e13f61e15",
            "1821e7d18401493f80c5890de24de498"
          ]
        },
        "id": "mIxYAXNgK3ap",
        "outputId": "73a31ced-dcbc-4467-dade-d2e58d79641d"
      },
      "source": [
        "env = TicTacToe(3,3,3)\n",
        "\n",
        "mcts = Mcts(env, 1000000)\n",
        "mcts.learn()\n",
        "run(mcts, 10000)"
      ],
      "execution_count": 50,
      "outputs": [
        {
          "output_type": "display_data",
          "data": {
            "application/vnd.jupyter.widget-view+json": {
              "model_id": "b66c8d25ed014f09a331a6ae009ae163",
              "version_minor": 0,
              "version_major": 2
            },
            "text/plain": [
              "  0%|          | 0/10000 [00:00<?, ?it/s]"
            ]
          },
          "metadata": {}
        },
        {
          "output_type": "stream",
          "name": "stdout",
          "text": [
            "Mean reward vs random policy equal 0.410146173688736 after 1163 games.\n"
          ]
        },
        {
          "output_type": "execute_result",
          "data": {
            "text/plain": [
              "0.410146173688736"
            ]
          },
          "metadata": {},
          "execution_count": 50
        }
      ]
    },
    {
      "cell_type": "code",
      "metadata": {
        "colab": {
          "base_uri": "https://localhost:8080/",
          "height": 84,
          "referenced_widgets": [
            "1f3cdd02ec97469f83ba6cb720a1a25c",
            "ee623e976a5742c189dfedf70340bdb6",
            "68a6bfcda90c4869b5721b8290cc5777",
            "af9b6e1607c349a3a9f91ea112003156",
            "9e533c4ba75c45729aba8687d3f69c11",
            "368b0e15717a412a97207c2dc5db2e3a",
            "9265772ff6364b7387bec6e6eef4797a",
            "2c85172128c24661ba17082e6208466c",
            "cf0cf48c8a944c24807e75ff0b784d80",
            "3ddf46539fac41fc97991e13ed71c71c",
            "2a342d54705f420bb470cc2b030cb5fa"
          ]
        },
        "id": "gebkdqDWK3ap",
        "outputId": "8a632a80-7367-4d04-c117-a7f6042f81bf"
      },
      "source": [
        "env = TicTacToe(4,4,4)\n",
        "\n",
        "mcts = Mcts(env, 10000000)\n",
        "mcts.learn()\n",
        "run(mcts, 100000)"
      ],
      "execution_count": 52,
      "outputs": [
        {
          "output_type": "display_data",
          "data": {
            "application/vnd.jupyter.widget-view+json": {
              "model_id": "1f3cdd02ec97469f83ba6cb720a1a25c",
              "version_minor": 0,
              "version_major": 2
            },
            "text/plain": [
              "  0%|          | 0/10000 [00:00<?, ?it/s]"
            ]
          },
          "metadata": {}
        },
        {
          "output_type": "stream",
          "name": "stdout",
          "text": [
            "Mean reward vs random policy equal 1.0 after 4 games.\n"
          ]
        },
        {
          "output_type": "execute_result",
          "data": {
            "text/plain": [
              "1.0"
            ]
          },
          "metadata": {},
          "execution_count": 52
        }
      ]
    }
  ]
}